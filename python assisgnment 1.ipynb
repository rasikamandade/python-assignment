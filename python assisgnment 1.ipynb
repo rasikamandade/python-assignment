{
 "cells": [
  {
   "cell_type": "markdown",
   "id": "98a24696-c4e2-4a13-bb16-d51228a1dfa1",
   "metadata": {},
   "source": [
    "### 1. String (5 Questions)"
   ]
  },
  {
   "cell_type": "code",
   "execution_count": 3,
   "id": "037a9963-7e81-4e96-9dd3-97ac1e057d46",
   "metadata": {},
   "outputs": [
    {
     "name": "stdin",
     "output_type": "stream",
     "text": [
      " mam\n"
     ]
    },
    {
     "name": "stdout",
     "output_type": "stream",
     "text": [
      "Is palindrome\n"
     ]
    }
   ],
   "source": [
    " #1. Check if a given string is a palindrome\n",
    " nam=str(input())\n",
    "if nam == nam[::-1]:\n",
    "    print(\"Is palindrome\")\n",
    "else:\n",
    "    print(\"not palindrome\")\n",
    "    "
   ]
  },
  {
   "cell_type": "code",
   "execution_count": 76,
   "id": "70f9a691-405a-4685-816a-27f3a8a37006",
   "metadata": {},
   "outputs": [
    {
     "name": "stdout",
     "output_type": "stream",
     "text": [
      "{'a': 4, 'e': 6, 'i': 5, 'o': 5, 'u': 3}\n"
     ]
    }
   ],
   "source": [
    "# 2. Count the number of vowels in a string and store the result in a dictionary.\n",
    "s=(\"Count the number of vowels in a string and store the result in a dictionary.\")\n",
    "vowels = \"aeiou\"\n",
    "count = {v:s.count(v) for v in vowels }\n",
    "print(count)"
   ]
  },
  {
   "cell_type": "code",
   "execution_count": 96,
   "id": "d0c588a7-d453-4452-b3d6-a8d197ccbfe5",
   "metadata": {},
   "outputs": [
    {
     "data": {
      "text/plain": [
       "'This Is A String Variable'"
      ]
     },
     "execution_count": 96,
     "metadata": {},
     "output_type": "execute_result"
    }
   ],
   "source": [
    "##3. Convert the first letter of each word in a string to uppercase (title case manually)\n",
    "s=\"this is a string variable\"\n",
    "s.title()"
   ]
  },
  {
   "cell_type": "code",
   "execution_count": 97,
   "id": "1d4bee9b-81e1-49e6-a3f2-3bca8f2141b0",
   "metadata": {},
   "outputs": [
    {
     "name": "stdout",
     "output_type": "stream",
     "text": [
      "a\n"
     ]
    }
   ],
   "source": [
    "## 4.Find the most frequently occurring character in a string\n",
    "s = \"bananan\"\n",
    "frequency = {ch:s.count(ch) for ch in s}\n",
    "print(max(frequency, key = frequency.get))\n",
    "\n",
    "\n",
    "    "
   ]
  },
  {
   "cell_type": "code",
   "execution_count": 98,
   "id": "7161608a-15d5-41fa-b530-3eabcd75d6ec",
   "metadata": {},
   "outputs": [
    {
     "name": "stdout",
     "output_type": "stream",
     "text": [
      "alphabets: 13\n",
      "Digits: 12\n",
      "Special_Characters: 9\n"
     ]
    }
   ],
   "source": [
    "## 5.Count digits, alphabets, and special characters separately in a string\n",
    "s=\"abcrhabcj125bc564897445mz@@$#%^*%$\"\n",
    "alpha=0\n",
    "digit=0\n",
    "special=0\n",
    "for i in s:\n",
    "    if i.isalpha():\n",
    "        alpha += 1\n",
    "    elif i.isdigit():\n",
    "        digit += 1\n",
    "    else:\n",
    "        special += 1\n",
    "print(\"alphabets:\",alpha)\n",
    "print(\"Digits:\",digit)\n",
    "print(\"Special_Characters:\",special)\n",
    "    "
   ]
  },
  {
   "cell_type": "markdown",
   "id": "2c9c0672-3479-4208-af34-9374d80c6683",
   "metadata": {},
   "source": [
    "### 2. List (5 Questions)"
   ]
  },
  {
   "cell_type": "code",
   "execution_count": 99,
   "id": "e07aa739-6513-4131-8738-96d2845ef058",
   "metadata": {},
   "outputs": [
    {
     "name": "stdout",
     "output_type": "stream",
     "text": [
      "[1, 5, 8, 6, 2, 4, 7]\n"
     ]
    }
   ],
   "source": [
    "## 6. Remove duplicate elements from a list without using set()\n",
    "list = [1,5,8,6,2,5,6,8,2,4,4,7,2,2,6]\n",
    "new_list =[]\n",
    "\n",
    "for n in list:\n",
    "    if n not in new_list:\n",
    "        new_list.append(n)\n",
    "print(new_list)    "
   ]
  },
  {
   "cell_type": "code",
   "execution_count": 100,
   "id": "aa0fb2ee-e3f4-444f-a055-d50751649a22",
   "metadata": {},
   "outputs": [
    {
     "name": "stdout",
     "output_type": "stream",
     "text": [
      "reverse list is:[5, 3, 4, 2, 1]\n"
     ]
    }
   ],
   "source": [
    "#7. Reverse a list without using built-in functions¶\n",
    "l=[1,2,4,3,5]\n",
    "var=[l[x] for x in range(len(l)-1,-1,-1)]\n",
    "print(f\"reverse list is:{var}\")"
   ]
  },
  {
   "cell_type": "code",
   "execution_count": 101,
   "id": "71a0a894-701e-40f3-8901-19dc4d8eb5cc",
   "metadata": {},
   "outputs": [
    {
     "name": "stdout",
     "output_type": "stream",
     "text": [
      "list is [1, 2, 2, 3, 4, 4, 5, 5, 8, 77] \n",
      " 2nd largest element in list is 2 \n",
      " 2nd smallest element in list is 8\n"
     ]
    }
   ],
   "source": [
    "#8. Find the 2nd largest and 2nd smallest element in a list.\n",
    "l=[1,2,5,77,4,2,3,4,5,8]\n",
    "l.sort()\n",
    "a=l[1]\n",
    "b=l[-2]\n",
    "print(\"list is\",l,\"\\n\",\"2nd largest element in list is\",a,\"\\n\",\"2nd smallest element in list is\",b)"
   ]
  },
  {
   "cell_type": "code",
   "execution_count": 118,
   "id": "1c728df7-5c06-4776-a4f7-77b7a827f0e5",
   "metadata": {},
   "outputs": [
    {
     "data": {
      "text/plain": [
       "[1, 4, 9, 16, 25, 36, 49, 64, 81]"
      ]
     },
     "execution_count": 118,
     "metadata": {},
     "output_type": "execute_result"
    }
   ],
   "source": [
    "## 9. Store the square of each element of a list into a new list (using list comprehension).\n",
    "li=[1,2,3,4,5,6,7,8,9]\n",
    "[i**2 for i in li]"
   ]
  },
  {
   "cell_type": "code",
   "execution_count": 2,
   "id": "063fa115-7688-463c-a586-1255a39b64e8",
   "metadata": {},
   "outputs": [
    {
     "name": "stdout",
     "output_type": "stream",
     "text": [
      "original list:[[1, 2, 3], [2, 5, 8], [4, 5, 6]]\n",
      "new list:[1, 2, 3, 2, 5, 8, 4, 5, 6]\n"
     ]
    }
   ],
   "source": [
    "#10. Flatten a nested list into a single list\n",
    "var=[[1,2,3],[2,5,8],[4,5,6]]\n",
    "new_li=[i for x in var for i in x]\n",
    "print(f\"original list:{var}\")\n",
    "print(f\"new list:{new_li}\")"
   ]
  },
  {
   "cell_type": "markdown",
   "id": "31fab9f0-51c2-4760-a831-e48044b9846e",
   "metadata": {},
   "source": [
    "#### 3. Tuple (5 Questions)\n"
   ]
  },
  {
   "cell_type": "code",
   "execution_count": 6,
   "id": "830b5ce8-f7fc-40eb-b6ad-58e596e030e1",
   "metadata": {},
   "outputs": [
    {
     "name": "stdout",
     "output_type": "stream",
     "text": [
      "8\n",
      "1\n",
      "719\n",
      "6\n",
      "5\n",
      "4\n",
      "3\n",
      "2\n",
      "1\n"
     ]
    }
   ],
   "source": [
    "##11. Reverse a tuple without using [::-1]\n",
    "tu=(1,2,3,4,5,6,719,1,8)\n",
    "for i in range(len(tu)-1,-1,-1):\n",
    "        print(tu[i])\n",
    "    "
   ]
  },
  {
   "cell_type": "code",
   "execution_count": 7,
   "id": "11a5dd63-12e4-454d-bc25-7ed133531aae",
   "metadata": {},
   "outputs": [
    {
     "name": "stdout",
     "output_type": "stream",
     "text": [
      "[1, 2, 5, 'rasika', (1, 5, 8)]\n"
     ]
    }
   ],
   "source": [
    "##12. Extract unique elements from a tuple and store them in a new list.\n",
    "tuple = (1,2,5,\"rasika\",True,(1,5,8))\n",
    "unique = []\n",
    "for i in tuple:\n",
    "    if i not in unique:\n",
    "        unique.append(i)\n",
    "print(unique)"
   ]
  },
  {
   "cell_type": "code",
   "execution_count": 3,
   "id": "58ce0185-a54c-4e0e-92ce-7cd1b1adc532",
   "metadata": {},
   "outputs": [
    {
     "name": "stdout",
     "output_type": "stream",
     "text": [
      "[10, 11, 22, 33, 38, 55, 56, 74, 77, 88, 92]\n"
     ]
    }
   ],
   "source": [
    "##13. Concatenate two tuples and sort them\n",
    "t1 = (55,77,33,22,88,11)\n",
    "t2 = (10,92,38,74,56)\n",
    "tuple = t1 + t2\n",
    "sort =(sorted(tuple))\n",
    "print(sort)\n"
   ]
  },
  {
   "cell_type": "code",
   "execution_count": 12,
   "id": "f649cc57-6c36-4b51-bc25-80e3889682f3",
   "metadata": {},
   "outputs": [
    {
     "name": "stdin",
     "output_type": "stream",
     "text": [
      "enter a element to count the frequency : 2\n"
     ]
    },
    {
     "name": "stdout",
     "output_type": "stream",
     "text": [
      "frequency of an element in a tuple is 5\n"
     ]
    }
   ],
   "source": [
    "## 14. Count the frequency of an element in a tuple without using count()\n",
    "n=(1,2,352,1,4,5,6,2,2,2,2,8,6)\n",
    "element=int(input(\"enter a element to count the frequency :\"))\n",
    "a = 0\n",
    "for i in n:\n",
    "    if i == element:\n",
    "        a += 1\n",
    "print(\"frequency of an element in a tuple is\",a)"
   ]
  },
  {
   "cell_type": "code",
   "execution_count": 27,
   "id": "5f09578e-7fe1-442b-8348-2a9cf5c9ee09",
   "metadata": {},
   "outputs": [
    {
     "name": "stdout",
     "output_type": "stream",
     "text": [
      "even number: [2, 20, 4, 6, 10, 12] \n",
      " odd number: [1, 3, 5, 11, 5, 7, 55, 9, 11]\n"
     ]
    }
   ],
   "source": [
    "## 15. From a tuple of numbers, create two tuples: one with even numbers and one with odd numbers.\n",
    "tup = (1,2,3,5,11,20,4,5,6,7,55,9,10,11,12)\n",
    "even=list(filter(lambda n : n%2==0,tup))\n",
    "odd=list(filter(lambda n : n%2!=0,tup))\n",
    "print(\"even number:\",even,\"\\n\",\"odd number:\",odd)\n"
   ]
  },
  {
   "cell_type": "code",
   "execution_count": 5,
   "id": "1442eec5-257a-4282-a63d-474aad42522d",
   "metadata": {},
   "outputs": [
    {
     "name": "stdout",
     "output_type": "stream",
     "text": [
      "Union: {1, 2, 4, 6, 8, 9}\n"
     ]
    }
   ],
   "source": [
    "#### 16. Perform union, intersection, and difference of two sets without using built-in operators.\n",
    "n = {1,4,2}\n",
    "i = {6,8,9}\n",
    "set = n|i\n",
    "print(\"Union:\", set)"
   ]
  },
  {
   "cell_type": "code",
   "execution_count": 8,
   "id": "c74e28bd-d945-44dc-a8db-6d3812c436cf",
   "metadata": {},
   "outputs": [
    {
     "name": "stdout",
     "output_type": "stream",
     "text": [
      "Intersection: {8, 4, 6, 7}\n"
     ]
    }
   ],
   "source": [
    "n = {1,2,3,4,6,7,8}\n",
    "i = {4,7,5,6,6,8}\n",
    "intersection = n & i\n",
    "print(\"Intersection:\",intersection)"
   ]
  },
  {
   "cell_type": "code",
   "execution_count": 9,
   "id": "c1374584-43c2-4dcf-a578-1de94ba9a8db",
   "metadata": {},
   "outputs": [
    {
     "name": "stdout",
     "output_type": "stream",
     "text": [
      "n - i: {1, 2, 3}\n",
      "i- n: {5}\n"
     ]
    }
   ],
   "source": [
    "n =  {1,2,3,4,6,7,8}\n",
    "i = {4,7,5,6,6,8}\n",
    "\n",
    "diff1 = n - i\n",
    "diff2 = i - n\n",
    "print(\"n - i:\",diff1)\n",
    "print(\"i- n:\",diff2)"
   ]
  },
  {
   "cell_type": "code",
   "execution_count": 5,
   "id": "bffde8fd-a5ea-4acf-b3b4-cf905ad51f98",
   "metadata": {},
   "outputs": [
    {
     "name": "stdout",
     "output_type": "stream",
     "text": [
      "{1, 3, 4, 5, 8, 56}\n"
     ]
    }
   ],
   "source": [
    "## 17. Remove a random element from a set (without using pop()).\n",
    "set={1,2,3,4,56,2,8,1,2,5}\n",
    "set.remove(2)\n",
    "print(set)"
   ]
  },
  {
   "cell_type": "code",
   "execution_count": 7,
   "id": "0a3bf767-6297-4bb4-bda1-23a122dc48af",
   "metadata": {},
   "outputs": [
    {
     "data": {
      "text/plain": [
       "{1, 2, 3, 5, 6, 7, 8}"
      ]
     },
     "execution_count": 7,
     "metadata": {},
     "output_type": "execute_result"
    }
   ],
   "source": [
    "## 18. Convert a list into a set and check if duplicates are removed.\n",
    "l1=[1,1,2,5,5,7,7,8,3,6,1]\n",
    "set(l1)"
   ]
  },
  {
   "cell_type": "code",
   "execution_count": 9,
   "id": "d3d04eb1-8132-4778-9719-3360352c225f",
   "metadata": {},
   "outputs": [
    {
     "data": {
      "text/plain": [
       "False"
      ]
     },
     "execution_count": 9,
     "metadata": {},
     "output_type": "execute_result"
    }
   ],
   "source": [
    "## 19. Check if two sets are disjoint\n",
    "set={1,2,2,45,5,}\n",
    "set1={12,1,2,4,5,}\n",
    "set.isdisjoint(set1)"
   ]
  },
  {
   "cell_type": "code",
   "execution_count": 57,
   "id": "07335e3b-0515-4107-ba9f-1db01d2e546a",
   "metadata": {},
   "outputs": [
    {
     "name": "stdout",
     "output_type": "stream",
     "text": [
      "12\n"
     ]
    }
   ],
   "source": [
    "## 20. Find the sum of all elements in a set\n",
    "s={1,2,4,5}\n",
    "from functools import reduce\n",
    "sum =reduce(lambda n,v : n+v,s)\n",
    "print(sum)\n"
   ]
  },
  {
   "cell_type": "markdown",
   "id": "2ac98d37-e463-42de-8980-44a66c7176b1",
   "metadata": {},
   "source": [
    "#### 5. Dictionary (5 Questions)\n",
    " 21. Create a dictionary and print keys in ascending order."
   ]
  },
  {
   "cell_type": "code",
   "execution_count": 4,
   "id": "02f4df14-6312-4745-a791-8b19481edc15",
   "metadata": {},
   "outputs": [
    {
     "name": "stdout",
     "output_type": "stream",
     "text": [
      "keys in ascending order : ['khushi', 'pratu', 'priya', 'rasika', 'roshni']\n"
     ]
    }
   ],
   "source": [
    "d={\"rasika\":\"1\",\"priya\":\"2\",\"khushi\":\"3\",\"pratu\":\"4\",\"roshni\":\"5\"}\n",
    "var=d.keys()\n",
    "name=list(var)\n",
    "name.sort()\n",
    "print(\"keys in ascending order :\",name)"
   ]
  },
  {
   "cell_type": "code",
   "execution_count": 1,
   "id": "5317c7b3-7be4-497e-a273-01c130f4d16c",
   "metadata": {},
   "outputs": [
    {
     "name": "stdout",
     "output_type": "stream",
     "text": [
      "60\n"
     ]
    }
   ],
   "source": [
    "## 22. Add a new key to a dictionary with value equal to the sum of existing values.\n",
    "d = {\"a\": 10, \"b\": 20, \"c\": 30} \n",
    "sum = sum(d.values())\n",
    "print(sum)"
   ]
  },
  {
   "cell_type": "code",
   "execution_count": 123,
   "id": "fe6dda6d-c3c1-4bff-9967-273a7a56ba3b",
   "metadata": {},
   "outputs": [
    {
     "name": "stdout",
     "output_type": "stream",
     "text": [
      "('rasika', 'priya', 'khushi', 'pratu', '1', '2', '3')\n"
     ]
    }
   ],
   "source": [
    "##23. Merge two dictionaries into one.¶\n",
    "d={\"rasika\":\"1\",\"priya\":\"2\",\"khushi\":\"3\",\"pratu\":\"4\"}\n",
    "v={\"1\":\"kyc\",\"2\":\"web\",\"3\":\"ovs\"}\n",
    "ds=tuple(d)+tuple(v)\n"
   ]
  },
  {
   "cell_type": "code",
   "execution_count": 120,
   "id": "e466bb5a-647d-49cb-a717-6008a01c6183",
   "metadata": {},
   "outputs": [
    {
     "name": "stdout",
     "output_type": "stream",
     "text": [
      "a\n"
     ]
    }
   ],
   "source": [
    "##24. Find the key with the largest value in a dictionary.\n",
    "d = {\"a\": 500, \"b\": 150, \"c\": 100}\n",
    "max_key = max(d, key=d.get)\n",
    "print(max_key)"
   ]
  },
  {
   "cell_type": "code",
   "execution_count": 119,
   "id": "575cc3e8-afe5-4966-b144-f4ca2fa49b2b",
   "metadata": {},
   "outputs": [
    {
     "name": "stdout",
     "output_type": "stream",
     "text": [
      "{'l': 1, 't': 1, 'c': 2, 'e': 1, 'o': 2, 'h': 1, 'a': 1}\n"
     ]
    }
   ],
   "source": [
    "##25. Store the frequency of characters of a string in a dictionary\n",
    "s = \"chocolate\"\n",
    "freq = {ch: s.count(ch) for ch in set(s)}\n",
    "print(freq)"
   ]
  },
  {
   "cell_type": "markdown",
   "id": "6c79dd93-e73a-4754-a066-024dfb70ba1c",
   "metadata": {},
   "source": [
    "## 6. Conditional Statements (5 Questions)\n"
   ]
  },
  {
   "cell_type": "code",
   "execution_count": 12,
   "id": "0f296df8-4848-432a-a20f-029318dba0f1",
   "metadata": {},
   "outputs": [
    {
     "name": "stdin",
     "output_type": "stream",
     "text": [
      "enter a age of person 55\n"
     ]
    },
    {
     "name": "stdout",
     "output_type": "stream",
     "text": [
      "person is eligible to vote\n"
     ]
    }
   ],
   "source": [
    "#26. Take age as input and check if the person is eligible to vote or not.\n",
    "age=int(input(\"enter a age of person\"))\n",
    "\n",
    "if age<18:\n",
    "    print(\"person is not eligible to vote\")\n",
    "elif age >=18:\n",
    "    print(\"person is eligible to vote\")"
   ]
  },
  {
   "cell_type": "code",
   "execution_count": 14,
   "id": "80ea4e80-26ff-44ba-a86e-14c20479fe4b",
   "metadata": {},
   "outputs": [
    {
     "name": "stdin",
     "output_type": "stream",
     "text": [
      "enter a 1 number: 5\n",
      "enter a 2 number: 2\n",
      "enter a 3 number: 2\n"
     ]
    },
    {
     "name": "stdout",
     "output_type": "stream",
     "text": [
      "n1 is largest\n"
     ]
    }
   ],
   "source": [
    " #27. Find the largest among three numbers (using nested if).\n",
    "n1=int(input(\"enter a 1 number:\"))\n",
    "n2=int(input(\"enter a 2 number:\"))\n",
    "n3=int(input(\"enter a 3 number:\"))\n",
    "\n",
    "if n1 > n2:\n",
    "    if n1 > n3:\n",
    "        print(\"n1 is largest\")\n",
    "elif n2 > n3:\n",
    "        print(\"n2 is largest\")\n",
    "else :\n",
    "    print(\"n3 is largest\")\n",
    "        "
   ]
  },
  {
   "cell_type": "code",
   "execution_count": 15,
   "id": "2dc64def-1d8c-47a6-a382-5473a86b49a5",
   "metadata": {},
   "outputs": [
    {
     "name": "stdin",
     "output_type": "stream",
     "text": [
      "enter a number: 2\n"
     ]
    },
    {
     "name": "stdout",
     "output_type": "stream",
     "text": [
      " number is not prime\n"
     ]
    }
   ],
   "source": [
    "#28. Check if a given number is prime or not.\n",
    "num=int(input(\"enter a number:\"))\n",
    "if num % 2 == 1:\n",
    "    print(\"number is prime\")\n",
    "else :\n",
    "    print(\" number is not prime\")"
   ]
  },
  {
   "cell_type": "code",
   "execution_count": 16,
   "id": "59e70308-9678-4b0a-9540-1da24c6607d4",
   "metadata": {},
   "outputs": [
    {
     "name": "stdin",
     "output_type": "stream",
     "text": [
      "Enter a mark : 66\n"
     ]
    },
    {
     "name": "stdout",
     "output_type": "stream",
     "text": [
      " you got b grade\n"
     ]
    }
   ],
   "source": [
    " #29. Assign grade (A, B, C, Fail) based on marks input.\n",
    "mark=int(input(\"Enter a mark :\"))\n",
    "\n",
    "if mark <= 35:\n",
    "    print(\"you are fail\")\n",
    "elif mark >35 and   mark <= 60:\n",
    "    print(\"you got c grade\")\n",
    "elif mark >60 and mark <= 80:\n",
    "    print(\" you got b grade\")\n",
    "elif mark > 80 and  mark <= 100:\n",
    "    print(\"you got A grade\")\n",
    "elif mark <1 or mark >100:\n",
    "    print(\"invalid input\")"
   ]
  },
  {
   "cell_type": "code",
   "execution_count": 18,
   "id": "ddb17285-0974-49b1-9c12-7ae7da5c966c",
   "metadata": {},
   "outputs": [
    {
     "name": "stdin",
     "output_type": "stream",
     "text": [
      "enter a number : 6\n"
     ]
    },
    {
     "name": "stdout",
     "output_type": "stream",
     "text": [
      "6  is positive number \n"
     ]
    }
   ],
   "source": [
    "#30. Check if a number is positive, negative, or zero.\n",
    "num=int(input(\"enter a number :\"))\n",
    "\n",
    "if num >= 1:\n",
    "    print(num ,\" is positive number \")\n",
    "elif num <=-1:\n",
    "    print(num,\" is negative number\")\n",
    "elif num==0:\n",
    "    print(\"number is zero\")"
   ]
  },
  {
   "cell_type": "markdown",
   "id": "8f2ce0c6-f3ff-4137-b469-8c49f2ae3edf",
   "metadata": {},
   "source": [
    "##### 7. Loops – For & While (5 Questions)"
   ]
  },
  {
   "cell_type": "code",
   "execution_count": 19,
   "id": "fbb3efd0-6ad0-4d1c-ab38-4a9da07cf31f",
   "metadata": {},
   "outputs": [
    {
     "name": "stdout",
     "output_type": "stream",
     "text": [
      "0\n",
      "1\n",
      "1\n",
      "2\n",
      "3\n",
      "5\n",
      "8\n",
      "13\n",
      "21\n",
      "34\n",
      "55\n",
      "89\n",
      "144\n"
     ]
    }
   ],
   "source": [
    "#31. Print the first 10 numbers of the Fibonacci series using for loop.\n",
    "a=0\n",
    "b=1\n",
    "for i in range(13): # 0 1 1 2 3 5 8\n",
    "    print(a)\n",
    "    a,b=a+b,a\n",
    "\n"
   ]
  },
  {
   "cell_type": "code",
   "execution_count": 20,
   "id": "692679a2-80b1-4e2e-9ba6-d0e18a119a93",
   "metadata": {},
   "outputs": [
    {
     "name": "stdin",
     "output_type": "stream",
     "text": [
      "enter a number : 2\n"
     ]
    },
    {
     "name": "stdout",
     "output_type": "stream",
     "text": [
      "2\n"
     ]
    }
   ],
   "source": [
    "# 32. Find the factorial of a number using while loop.\n",
    "num=int(input(\"enter a number :\"))\n",
    "i =1\n",
    "fact = 1\n",
    "while i <= num:\n",
    "    fact = fact * i\n",
    "    i = i+1\n",
    "print(fact)\n"
   ]
  },
  {
   "cell_type": "code",
   "execution_count": 21,
   "id": "b0d38138-84a4-4d7f-8b5c-20a4d3a3dba8",
   "metadata": {},
   "outputs": [
    {
     "name": "stdin",
     "output_type": "stream",
     "text": [
      "enter a number 5\n"
     ]
    },
    {
     "name": "stdout",
     "output_type": "stream",
     "text": [
      "15\n"
     ]
    }
   ],
   "source": [
    " #33. Input a number and find the sum of its digits using while loop.\n",
    "num=int(input(\"enter a number\"))\n",
    "n=0\n",
    "i=1\n",
    "while i <= num:\n",
    "    n = n + i\n",
    "    i = i + 1\n",
    "print (n)\n",
    "    "
   ]
  },
  {
   "cell_type": "code",
   "execution_count": 22,
   "id": "2f0faa1c-cd3e-4738-b6ba-24b1d745e44a",
   "metadata": {},
   "outputs": [
    {
     "name": "stdout",
     "output_type": "stream",
     "text": [
      "3\n",
      "8\n",
      "3\n",
      "4\n",
      "2\n",
      "5\n",
      "1\n"
     ]
    }
   ],
   "source": [
    "# 34. Print all elements of a list in reverse order without using reverse()\n",
    "l=[1, 5 ,2 ,4 ,3 ,8 ,3]\n",
    "for i in range(len(l)-1,-1,-1):\n",
    "   print(l[i])"
   ]
  },
  {
   "cell_type": "code",
   "execution_count": 26,
   "id": "a3127cf1-e75f-4237-ab69-968608cc860d",
   "metadata": {},
   "outputs": [
    {
     "name": "stdout",
     "output_type": "stream",
     "text": [
      "\n",
      "* \n",
      "* * \n",
      "* * * \n",
      "* * * * \n",
      "* * * * * \n"
     ]
    }
   ],
   "source": [
    "#35. Print a star pattern (triangle) using nested loops\n",
    "n=0\n",
    "for i in range (0,6,1):\n",
    "    for k in range(n):\n",
    "        print(\"*\",end=\" \")\n",
    "    n = n + 1\n",
    "    print(\"\\r\")"
   ]
  },
  {
   "cell_type": "markdown",
   "id": "55569a2f-0af5-4be7-b8ef-5f9b83377e7b",
   "metadata": {},
   "source": [
    "## 8. File Handling (5 Questions)"
   ]
  },
  {
   "cell_type": "code",
   "execution_count": 35,
   "id": "bd322b2f-c871-4272-bb1e-b4c6283431b4",
   "metadata": {},
   "outputs": [],
   "source": [
    "##36. Write some text into a file and then read and print it."
   ]
  },
  {
   "cell_type": "code",
   "execution_count": 43,
   "id": "b6d9d0f3-d669-4a0c-ac03-41d3c75ded45",
   "metadata": {},
   "outputs": [],
   "source": [
    "var=open(\"new1.txt\",\"w\")\n",
    "var.write(\"this is my new file\")\n",
    "var.close()"
   ]
  },
  {
   "cell_type": "code",
   "execution_count": 44,
   "id": "a856a621-6101-48a4-b5e8-aa30a7f18e05",
   "metadata": {},
   "outputs": [
    {
     "name": "stdout",
     "output_type": "stream",
     "text": [
      "this is my new file\n"
     ]
    }
   ],
   "source": [
    "var=open(\"new1.txt\",\"r\")\n",
    "new_read=var.read()\n",
    "print(new_read)"
   ]
  },
  {
   "cell_type": "code",
   "execution_count": 70,
   "id": "e11a7f9b-23f2-4d2d-9547-4f8b4e4bdde6",
   "metadata": {},
   "outputs": [
    {
     "name": "stdout",
     "output_type": "stream",
     "text": [
      "Lines: 19\n"
     ]
    }
   ],
   "source": [
    "# 37. Count the total number of lines in a file.\n",
    "with open(\"new1.txt\", \"r\") as f:\n",
    "    print(\"Lines:\", len(f.readline()))"
   ]
  },
  {
   "cell_type": "code",
   "execution_count": 50,
   "id": "147e0959-4f26-447f-ae11-1eb8481f1c7c",
   "metadata": {},
   "outputs": [
    {
     "name": "stdout",
     "output_type": "stream",
     "text": [
      "Vowels: 5\n",
      "Consonants: 12\n"
     ]
    }
   ],
   "source": [
    " #38. Count vowels and consonants in a file.\n",
    "f = open(\"new.txt\", \"r\")\n",
    "text = f.read().lower()\n",
    "f.close()\n",
    "\n",
    "vowels = 0\n",
    "consonants = 0\n",
    "\n",
    "for ch in text:\n",
    "    if ch.isalpha():\n",
    "        if ch in \"aeiou\":\n",
    "            vowels += 1\n",
    "        else:\n",
    "            consonants += 1\n",
    "\n",
    "print(\"Vowels:\", vowels)\n",
    "print(\"Consonants:\", consonants)"
   ]
  },
  {
   "cell_type": "code",
   "execution_count": 71,
   "id": "a61ea9c3-549c-4f90-ad87-e70943f84fd7",
   "metadata": {},
   "outputs": [],
   "source": [
    "##39. Convert the content of a file into uppercase and store it in another file.\n",
    "with open(\"new1.txt\") as f:\n",
    "    new = f.read().upper()\n",
    "with open(\"upper.txt\", \"w\") as f:\n",
    "    f.write(new)\n",
    "    f.close()"
   ]
  },
  {
   "cell_type": "code",
   "execution_count": 72,
   "id": "b22ebf5d-b7ef-4646-8c1a-f9ff4247f227",
   "metadata": {},
   "outputs": [
    {
     "data": {
      "text/plain": [
       "'THIS IS MY NEW FILE'"
      ]
     },
     "execution_count": 72,
     "metadata": {},
     "output_type": "execute_result"
    }
   ],
   "source": [
    "new1=open(\"upper.txt\",\"r\")\n",
    "new1.read()"
   ]
  },
  {
   "cell_type": "code",
   "execution_count": 73,
   "id": "7633531b-be82-4de8-a730-16149781969d",
   "metadata": {},
   "outputs": [
    {
     "name": "stdout",
     "output_type": "stream",
     "text": [
      "['this is my new file']\n"
     ]
    }
   ],
   "source": [
    "##40. Read a CSV file and print its rows.\n",
    "import csv\n",
    "with open(\"new1.txt\", newline=\"\") as f:\n",
    "    reader = csv.reader(f)\n",
    "    for row in reader:\n",
    "        print(row)\n"
   ]
  },
  {
   "cell_type": "markdown",
   "id": "7ef9d949-e112-4b4c-a61a-adc8946fb2e5",
   "metadata": {},
   "source": [
    "# 9. OS Module (5 Questions)"
   ]
  },
  {
   "cell_type": "code",
   "execution_count": 75,
   "id": "54e6ed55-36e7-4055-bb22-19feb05b8047",
   "metadata": {},
   "outputs": [],
   "source": [
    "#41. Print the current working directory using os module.\n",
    "import os"
   ]
  },
  {
   "cell_type": "code",
   "execution_count": 76,
   "id": "053d9db3-8c33-4d1c-85f3-075bd4682ca4",
   "metadata": {},
   "outputs": [
    {
     "data": {
      "text/plain": [
       "'C:\\\\Users\\\\welcome 25\\\\Downloads'"
      ]
     },
     "execution_count": 76,
     "metadata": {},
     "output_type": "execute_result"
    }
   ],
   "source": [
    "os.getcwd()"
   ]
  },
  {
   "cell_type": "code",
   "execution_count": 81,
   "id": "f0b34b13-8736-4519-b7e9-dc2e97a5e06e",
   "metadata": {},
   "outputs": [],
   "source": [
    "## 42. Create a new folder using os module and create a file inside it.\n",
    "os.mkdir(\"newone\")\n"
   ]
  },
  {
   "cell_type": "code",
   "execution_count": 82,
   "id": "0f80f00e-f743-439b-9dd5-6740fc020902",
   "metadata": {},
   "outputs": [],
   "source": [
    "f = open(\"newone/newone.txt\",\"w\")\n",
    "f.write(\"this is new file\")\n",
    "f.close()"
   ]
  },
  {
   "cell_type": "code",
   "execution_count": 83,
   "id": "b8e9545a-00a0-497e-9c08-1c04676cdee7",
   "metadata": {},
   "outputs": [
    {
     "data": {
      "text/plain": [
       "['.ipynb_checkpoints',\n",
       " '00. Python Basics (1).pdf',\n",
       " '00. Python Basics.pdf',\n",
       " '01. Python Basics.ipynb',\n",
       " '01. Python Basics.pdf',\n",
       " '01. Python_Practice_Questions.pdf',\n",
       " '03. List and Operation.ipynb',\n",
       " '04. String and Operations.ipynb',\n",
       " '05. Tuple and operation.ipynb',\n",
       " '06. Set and operation (1).ipynb',\n",
       " '06. Set and operation (2).ipynb',\n",
       " '06. Set and operation (3).ipynb',\n",
       " '06. Set and operation.ipynb',\n",
       " '07. Dictionary and operations.ipynb',\n",
       " '08. Conditions-1.ipynb',\n",
       " '09. Conditions-2.ipynb',\n",
       " '10. Loops-1.ipynb',\n",
       " '11. loop-2.ipynb',\n",
       " '12. Loop-3.ipynb',\n",
       " '13. File_handling.ipynb',\n",
       " '14. Try and Except, Logging.ipynb',\n",
       " '15. User_define.ipynb',\n",
       " '16. User_define_function-2.ipynb',\n",
       " '17. global, map, reduce, filtter (1).ipynb',\n",
       " '17. global, map, reduce, filtter.ipynb',\n",
       " '18. OOPs-1.ipynb',\n",
       " '19. OOPs-2.ipynb',\n",
       " 'Anaconda3-2025.06-0-Windows-x86_64 (1).exe',\n",
       " 'desktop.ini',\n",
       " 'function',\n",
       " 'new.txt',\n",
       " 'new1.txt',\n",
       " 'newfile.txt',\n",
       " 'newone',\n",
       " 'newone.txt',\n",
       " 'practice que.ipynb',\n",
       " 'PythonAssignment.ipynb',\n",
       " 't3.txt',\n",
       " 't4.txt',\n",
       " 'text.txt',\n",
       " 'Untitled.ipynb',\n",
       " 'Untitled1.ipynb',\n",
       " 'Untitled16.ipynb',\n",
       " 'Untitled2.ipynb',\n",
       " 'upper.txt']"
      ]
     },
     "execution_count": 83,
     "metadata": {},
     "output_type": "execute_result"
    }
   ],
   "source": [
    "# 43. List all files and folders inside a directory.\n",
    "os.listdir()"
   ]
  },
  {
   "cell_type": "code",
   "execution_count": 85,
   "id": "be2cc6e1-f44b-453e-a08f-97a03f5ddd3d",
   "metadata": {},
   "outputs": [
    {
     "name": "stdout",
     "output_type": "stream",
     "text": [
      "File size of new1.txt is: 19 \n"
     ]
    }
   ],
   "source": [
    "##44. Check the size of a file using os module\n",
    "file = \"new1.txt\"\n",
    "size = os.path.getsize(file)\n",
    "print(f\"File size of {file} is: {size} \")\n"
   ]
  },
  {
   "cell_type": "code",
   "execution_count": 86,
   "id": "0dd9585b-f1a5-474d-8b24-cecdb1d88d23",
   "metadata": {},
   "outputs": [
    {
     "name": "stdout",
     "output_type": "stream",
     "text": [
      "{8, '.txt files:'}\n"
     ]
    }
   ],
   "source": [
    "##45. Count all .txt files in a directory.\n",
    "files = os.listdir()\n",
    "count = 0\n",
    "\n",
    "for f in files:\n",
    "    if f.endswith(\".txt\"):\n",
    "        count += 1\n",
    "result = {\".txt files:\", count}\n",
    "\n",
    "print(result)"
   ]
  },
  {
   "cell_type": "markdown",
   "id": "ac5a16cf-00c3-4a31-8fca-571e0caf9bd3",
   "metadata": {},
   "source": [
    "### 10. Try-Exception (5 Questions)"
   ]
  },
  {
   "cell_type": "code",
   "execution_count": 87,
   "id": "023f33a9-4f57-4446-ba6f-fcf4184c0435",
   "metadata": {},
   "outputs": [
    {
     "name": "stdin",
     "output_type": "stream",
     "text": [
      "enter a number 5\n"
     ]
    },
    {
     "name": "stdout",
     "output_type": "stream",
     "text": [
      "25\n"
     ]
    }
   ],
   "source": [
    " #46. Write a program that takes user input and prints its square. Handle errors if input is invalid.\n",
    "try:\n",
    "    num=int(input(\"enter a number\"))\n",
    "    square = num**2\n",
    "    print(square)\n",
    "except Exception as e:\n",
    "    print(e)"
   ]
  },
  {
   "cell_type": "code",
   "execution_count": 88,
   "id": "9576f7bc-6244-4f52-8a82-c7faf3db7dcf",
   "metadata": {},
   "outputs": [
    {
     "name": "stdin",
     "output_type": "stream",
     "text": [
      "enter a number 0\n"
     ]
    },
    {
     "name": "stdout",
     "output_type": "stream",
     "text": [
      "ZeroDivisionError\n"
     ]
    }
   ],
   "source": [
    "# 47. Handle ZeroDivisionError with an example program.\n",
    "try:\n",
    "      x=int(input(\"enter a number\"))\n",
    "      d= 10 / x\n",
    "      print(d)\n",
    "except ZeroDivisionError:\n",
    "        print(\"ZeroDivisionError\")"
   ]
  },
  {
   "cell_type": "code",
   "execution_count": 89,
   "id": "30f9b512-6d62-4307-9668-a18965c667e9",
   "metadata": {},
   "outputs": [
    {
     "name": "stdout",
     "output_type": "stream",
     "text": [
      "FileNotFoundError\n"
     ]
    }
   ],
   "source": [
    " #48. Handle FileNotFoundError with an example program.\n",
    "try:\n",
    "    with open (\"x.txt\") as file:\n",
    "        line=file.read()\n",
    "except FileNotFoundError:\n",
    "    print(\"FileNotFoundError\")"
   ]
  },
  {
   "cell_type": "code",
   "execution_count": 90,
   "id": "5449cb14-e359-431c-b7e7-87c5c434f1e7",
   "metadata": {},
   "outputs": [
    {
     "name": "stdin",
     "output_type": "stream",
     "text": [
      "enter a number:  5\n",
      "enter a number 2: [5]\n"
     ]
    },
    {
     "name": "stdout",
     "output_type": "stream",
     "text": [
      "ValueError\n"
     ]
    }
   ],
   "source": [
    " #49. Handle both ValueError and TypeError with an example.\n",
    "try:\n",
    "    num=int(input(\"enter a number: \"))\n",
    "    num1=int(input(\"enter a number 2:\"))\n",
    "    num3 =num * num1\n",
    "    print(num3)\n",
    "except ValueError:\n",
    "    print(\"ValueError\")\n",
    "except TypeError:\n",
    "    print(\"TypeError\")"
   ]
  },
  {
   "cell_type": "code",
   "execution_count": 95,
   "id": "d39eae9a-3119-482a-8f6c-72b5a3d65fbf",
   "metadata": {},
   "outputs": [
    {
     "name": "stdout",
     "output_type": "stream",
     "text": [
      "this is my new file\n"
     ]
    }
   ],
   "source": [
    "# 50. Write a program with finally block that opens and closes a file.\n",
    "try:\n",
    "    with open (\"new1.txt\") as v:\n",
    "        line=v.read()\n",
    "        print(line)\n",
    "except exception as e:\n",
    "    print(e)\n",
    "finally :\n",
    "    v.close()"
   ]
  }
 ],
 "metadata": {
  "kernelspec": {
   "display_name": "Python 3 (ipykernel)",
   "language": "python",
   "name": "python3"
  },
  "language_info": {
   "codemirror_mode": {
    "name": "ipython",
    "version": 3
   },
   "file_extension": ".py",
   "mimetype": "text/x-python",
   "name": "python",
   "nbconvert_exporter": "python",
   "pygments_lexer": "ipython3",
   "version": "3.13.5"
  }
 },
 "nbformat": 4,
 "nbformat_minor": 5
}
