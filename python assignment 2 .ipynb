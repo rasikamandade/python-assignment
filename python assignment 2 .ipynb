{
 "cells": [
  {
   "cell_type": "markdown",
   "id": "93c1b619-0974-4300-b679-5524f1ef9de9",
   "metadata": {},
   "source": [
    "#### 1. User-Defined Function (5 Questions) "
   ]
  },
  {
   "cell_type": "code",
   "execution_count": 38,
   "id": "29bd6eeb-4879-441a-a2b5-578070003c56",
   "metadata": {},
   "outputs": [],
   "source": [
    "#1. Write a function to calculate the factorial of a number (without recursion).\n",
    "# 1*2*3*4*5\n",
    "def factorial(var):\n",
    "    \"\"\"\n",
    "    this function is use for calculating a factorial of a number\n",
    "    \"\"\"\n",
    "    i = 1\n",
    "    fact= 1\n",
    "    while i <= var:\n",
    "        fact = fact * i\n",
    "        i = i + 1\n",
    "\n",
    "    print(\"the factorial of a number\",var,\"is\",fact)\n",
    "    \n",
    "  "
   ]
  },
  {
   "cell_type": "code",
   "execution_count": 39,
   "id": "d24fdcbc-a80c-42ce-a1a4-2d1a27c15cd6",
   "metadata": {},
   "outputs": [
    {
     "name": "stdout",
     "output_type": "stream",
     "text": [
      "the factorial of a number 5 is 120\n"
     ]
    }
   ],
   "source": [
    "factorial(5)"
   ]
  },
  {
   "cell_type": "code",
   "execution_count": 64,
   "id": "ba9f3f24-539f-47c7-b83f-f8bfba79f627",
   "metadata": {},
   "outputs": [
    {
     "name": "stdin",
     "output_type": "stream",
     "text": [
      "enter a number 153\n"
     ]
    },
    {
     "name": "stdout",
     "output_type": "stream",
     "text": [
      "153\n"
     ]
    }
   ],
   "source": [
    "#2. Write a function to check if a number is Armstrong or not.\n",
    " # len \n",
    "#len *** i\n",
    "#i + i\n",
    "#var == sum\n",
    "num9=str(input(\"enter a number\"))\n",
    "l=len(num9)\n",
    "var_1=sum(int(i)**l for i in num9)\n",
    "print(var_1)"
   ]
  },
  {
   "cell_type": "code",
   "execution_count": 56,
   "id": "f8b2e4bb-20ac-45b5-9ecc-fcaf157b2cf0",
   "metadata": {},
   "outputs": [],
   "source": [
    "#3. Write a function that takes a list of numbers and returns only even numbers.\n",
    "def even(*le):\n",
    "    even=list(filter(lambda n : n%2==0,le))\n",
    "    return even\n"
   ]
  },
  {
   "cell_type": "code",
   "execution_count": 59,
   "id": "fa6c87c9-cac6-425b-9c6a-738ba1f7fac0",
   "metadata": {},
   "outputs": [
    {
     "data": {
      "text/plain": [
       "[2, 4, 6, 8, 10, 12, 14, 16, 18, 20]"
      ]
     },
     "execution_count": 59,
     "metadata": {},
     "output_type": "execute_result"
    }
   ],
   "source": [
    "even(1,2,3,4,5,6,7,8,9,10,11,12,14,13,15,19,16,18,17,20)"
   ]
  },
  {
   "cell_type": "code",
   "execution_count": 101,
   "id": "a9562fc4-1688-4290-8de9-7dc4e8b693ea",
   "metadata": {},
   "outputs": [],
   "source": [
    "#4. Write a function that takes a string and returns the reverse of the string.\n",
    "def reverse(var):\n",
    "    for i in var:\n",
    "        reverse=var[::-1]\n",
    "    return reverse"
   ]
  },
  {
   "cell_type": "code",
   "execution_count": 102,
   "id": "249179ae-0c54-4e24-ad86-578494740a53",
   "metadata": {},
   "outputs": [
    {
     "data": {
      "text/plain": [
       "'margorp gniht tsrif ym si siht'"
      ]
     },
     "execution_count": 102,
     "metadata": {},
     "output_type": "execute_result"
    }
   ],
   "source": [
    "reverse(\"this is my first thing program\")"
   ]
  },
  {
   "cell_type": "code",
   "execution_count": 114,
   "id": "e1558d06-0853-40c2-b30e-3f7277c97090",
   "metadata": {},
   "outputs": [],
   "source": [
    "#5. Write a recursive function to calculate Fibonacci series up to n terms.\n",
    "def Fibonacci(n):\n",
    "    a,b=0,1,         #0 1 1 2 3 5 8\n",
    "    for i in range(0,n):\n",
    "        print(a)\n",
    "        a,b=b,a+b\n",
    "    \n",
    "        "
   ]
  },
  {
   "cell_type": "code",
   "execution_count": 115,
   "id": "57682199-df27-4e01-b2d4-5e2bbbfe8de0",
   "metadata": {},
   "outputs": [
    {
     "name": "stdout",
     "output_type": "stream",
     "text": [
      "0\n",
      "1\n",
      "1\n",
      "2\n",
      "3\n",
      "5\n",
      "8\n",
      "13\n",
      "21\n",
      "34\n"
     ]
    }
   ],
   "source": [
    "Fibonacci(10)"
   ]
  },
  {
   "cell_type": "markdown",
   "id": "8938319a-9ad5-4c81-ad10-8b264de232ab",
   "metadata": {},
   "source": [
    "#### 2. Lambda Function (5 Questions) "
   ]
  },
  {
   "cell_type": "code",
   "execution_count": 32,
   "id": "c86a1bdc-ab5a-43f8-8fa9-5dd1f1a07c9f",
   "metadata": {},
   "outputs": [],
   "source": [
    "#6. Write a lambda function to find the maximum of two numbers. \n",
    "Max = lambda a, b : a if(a > b) else b"
   ]
  },
  {
   "cell_type": "code",
   "execution_count": 34,
   "id": "f962e062-ed32-41bf-a513-0bf8bffefbd3",
   "metadata": {},
   "outputs": [
    {
     "data": {
      "text/plain": [
       "80"
      ]
     },
     "execution_count": 34,
     "metadata": {},
     "output_type": "execute_result"
    }
   ],
   "source": [
    "Max(80,60)\n"
   ]
  },
  {
   "cell_type": "code",
   "execution_count": 30,
   "id": "730a0bc1-ae2e-402f-9607-d86d904debfd",
   "metadata": {},
   "outputs": [
    {
     "name": "stdout",
     "output_type": "stream",
     "text": [
      "vowel : 7\n"
     ]
    }
   ],
   "source": [
    "#7. Write a lambda function to count vowels in a given string.\n",
    "var=\"This is my new vowel program\"\n",
    "v=\"aeiou\"\n",
    "new=list(filter(lambda x: x in v,var))\n",
    "vowel=len(new)\n",
    "print(\"vowel :\",vowel)"
   ]
  },
  {
   "cell_type": "code",
   "execution_count": 32,
   "id": "93b2151b-8f90-45a0-892c-fbedacb8d69c",
   "metadata": {},
   "outputs": [
    {
     "name": "stdout",
     "output_type": "stream",
     "text": [
      "[1, 4, 9, 16, 25, 36, 49, 64, 81, 100]\n"
     ]
    }
   ],
   "source": [
    "#8. Use a lambda with map() to convert a list of integers into their cubes. \n",
    "li=[1,2,3,4,5,6,7,8,9,10]\n",
    "cubes=list(map(lambda n: n**3 ,li))\n",
    "print(cubes)"
   ]
  },
  {
   "cell_type": "code",
   "execution_count": 40,
   "id": "7a1c7be1-0bc3-409a-826f-6e293f858092",
   "metadata": {},
   "outputs": [
    {
     "name": "stdout",
     "output_type": "stream",
     "text": [
      "[5, 10, 20, 15, 15, 80, 30, 65]\n"
     ]
    }
   ],
   "source": [
    "#9. Use a lambda with filter() to find numbers divisible by 5 from a list. \n",
    "l2=[2,5,6,10,20,15,6,15,80,30,28,65]\n",
    "new_list=list(filter(lambda x: x%5==0,l2))\n",
    "print(new_list)"
   ]
  },
  {
   "cell_type": "code",
   "execution_count": 44,
   "id": "613a5b3a-6f19-43f4-95d6-8efe23df3d51",
   "metadata": {},
   "outputs": [
    {
     "name": "stdout",
     "output_type": "stream",
     "text": [
      "40320\n"
     ]
    }
   ],
   "source": [
    "#10. Use reduce() with lambda to find the product of all numbers in a list.\n",
    "from functools import reduce\n",
    "l3=[1,2,3,4,5,6,7,8]\n",
    "product=reduce(lambda n,v:n * v,l3)\n",
    "print(product)"
   ]
  },
  {
   "cell_type": "markdown",
   "id": "4763f2b6-dba3-4d37-9ddd-90622ab332c2",
   "metadata": {},
   "source": [
    "### 3. List Comprehension (5 Questions)"
   ]
  },
  {
   "cell_type": "code",
   "execution_count": 51,
   "id": "0b100953-d916-4a51-b062-28a29b1d0d55",
   "metadata": {},
   "outputs": [
    {
     "name": "stdout",
     "output_type": "stream",
     "text": [
      "[1, 4, 9, 16, 25, 36, 49, 64, 81, 100, 121, 144, 169, 196, 225, 256, 289, 324, 361, 400]\n"
     ]
    }
   ],
   "source": [
    "#11. Create a list of squares of numbers from 1 to 20 using list comprehension.\n",
    "sqr=list((i**2 for i in range(1,21)))\n",
    "print(sqr)\n"
   ]
  },
  {
   "cell_type": "code",
   "execution_count": 28,
   "id": "a5bbd25b-aa58-46ca-97f8-7028055c4e98",
   "metadata": {},
   "outputs": [
    {
     "name": "stdout",
     "output_type": "stream",
     "text": [
      "Words starting with vowel in list is:- ['anushka', 'isha', 'om', 'umesh']\n"
     ]
    }
   ],
   "source": [
    "#12. Extract all words starting with vowel from a list of words.\n",
    "l5=[\"priya\",\"khushi\",\"rahul\",\"anushka\",\"isha\",\"om\",\"umesh\"]\n",
    "A=\"a\",\"e\",\"i\",\"o\",\"u\"\n",
    "vowel_word=list(filter(lambda i: str(i).startswith(A) ,l5))\n",
    "print(\"Words starting with vowel in list is:-\",vowel_word)"
   ]
  },
  {
   "cell_type": "code",
   "execution_count": 38,
   "id": "8dd64423-bc27-4fef-b976-02dad365f7f5",
   "metadata": {},
   "outputs": [
    {
     "name": "stdout",
     "output_type": "stream",
     "text": [
      "[(1, 1), (2, 4), (3, 9), (4, 16), (5, 25), (6, 36), (7, 49), (8, 64), (9, 81)]\n"
     ]
    }
   ],
   "source": [
    "#13. Generate a list of tuples (x, x^2) for numbers from 1 to 10. \n",
    "tn=range(1,10)\n",
    "x_=list((i ,i**2) for i in tn)\n",
    "print(x_)"
   ]
  },
  {
   "cell_type": "code",
   "execution_count": 95,
   "id": "20a876a5-76cc-44fc-97bb-f33ed82a4b8e",
   "metadata": {},
   "outputs": [
    {
     "name": "stdout",
     "output_type": "stream",
     "text": [
      "original list is: [[2, 4, 5], [1, 7, 8], [2, 5, 8]] \n",
      " new list [2, 4, 5, 1, 7, 8, 2, 5, 8]\n"
     ]
    }
   ],
   "source": [
    "#14. Flatten a 2D list using list comprehension. \n",
    "f=[[2,4,5],[1,7,8],[2,5,8]]\n",
    "flatten=[n for i in f for n in i ]\n",
    "print(\"original list is:\",f,\"\\n\",\"new list\",flatten)\n"
   ]
  },
  {
   "cell_type": "code",
   "execution_count": 116,
   "id": "b71f0333-9405-4204-b9b9-44d87fba4db6",
   "metadata": {},
   "outputs": [
    {
     "name": "stdout",
     "output_type": "stream",
     "text": [
      "[1, 3, 5, 7, 9, 11, 13, 15, 17, 19, 21, 23, 25, 27, 29, 31, 33, 35, 37, 39, 41, 43, 45, 47, 49]\n"
     ]
    }
   ],
   "source": [
    "#15. Create a list of prime numbers between 1 and 50 using list comprehension.\n",
    "le=range(1,51)\n",
    "prime=list(filter(lambda n : n%2==1,le)) \n",
    "print(prime)"
   ]
  },
  {
   "cell_type": "markdown",
   "id": "9aece85f-0c9e-4cfe-a2a3-f000c42243e7",
   "metadata": {},
   "source": [
    "### 4. Class (5 Questions)"
   ]
  },
  {
   "cell_type": "code",
   "execution_count": 67,
   "id": "671c9076-b111-4e93-8088-242a1d6feadc",
   "metadata": {},
   "outputs": [],
   "source": [
    "#16. Create a class Student with attributes name and marks, and a method to display details.\n",
    "class Student:\n",
    "     def __init__ (self, name,marks):\n",
    "         self.name=name\n",
    "         self.marks=marks\n",
    "     def details(self):\n",
    "         print(\"student name:\",self.name)\n",
    "         print(\"student marks:\",self.marks)\n",
    "         "
   ]
  },
  {
   "cell_type": "code",
   "execution_count": 68,
   "id": "f97323a2-258d-4393-9edc-6a9f38930382",
   "metadata": {},
   "outputs": [],
   "source": [
    "std_obj=Student(\"RASIKA\",500)"
   ]
  },
  {
   "cell_type": "code",
   "execution_count": 72,
   "id": "f8e18449-747b-4437-b1b1-c2903b8943ad",
   "metadata": {},
   "outputs": [
    {
     "name": "stdout",
     "output_type": "stream",
     "text": [
      "student name: RASIKA\n",
      "student marks: 500\n"
     ]
    }
   ],
   "source": [
    "std_obj.details()"
   ]
  },
  {
   "cell_type": "code",
   "execution_count": 94,
   "id": "975ed7f3-6cfc-45fb-9843-31ad475db4a0",
   "metadata": {},
   "outputs": [],
   "source": [
    "#17. Create a class BankAccount with deposit and withdraw methods.\n",
    "class BankAccount:\n",
    "    def __init__ (self,account_holder,balance):\n",
    "        self.account_holder=account_holder\n",
    "        self.__balance=balance\n",
    "        \n",
    "    def deposit(self,deposit):\n",
    "        print(\"deposit amount is :\",deposit)\n",
    "        self.__balance += deposit\n",
    "        \n",
    "    def withdraw(self,withdraw):\n",
    "        self.__balance -= withdraw\n",
    "        print(\"amount withdraw is:\",withdraw)\n",
    "        print(\"balance amount is:-\",self.__balance)"
   ]
  },
  {
   "cell_type": "code",
   "execution_count": 95,
   "id": "e090cb82-03f1-4888-bb9b-2272d045ed13",
   "metadata": {},
   "outputs": [],
   "source": [
    "bank_obj=BankAccount(\"rasika\",5000)"
   ]
  },
  {
   "cell_type": "code",
   "execution_count": 96,
   "id": "55c3ab3e-4bb2-4e26-9244-831c9ad2adf7",
   "metadata": {},
   "outputs": [
    {
     "name": "stdout",
     "output_type": "stream",
     "text": [
      "deposit amount is : 5000\n",
      "amount withdraw is: 500\n",
      "balance amount is:- 9500\n"
     ]
    }
   ],
   "source": [
    "bank_obj.deposit(5000)\n",
    "bank_obj.withdraw(500)"
   ]
  },
  {
   "cell_type": "code",
   "execution_count": 104,
   "id": "1dce4b08-101e-4283-90b3-8546d7887ea4",
   "metadata": {},
   "outputs": [],
   "source": [
    "#18. Create a class Circle with a method to calculate area and circumference. \n",
    "class circle:\n",
    "    def __init__ (self,radius):\n",
    "        self.__radius=radius\n",
    "\n",
    "    def area(self):\n",
    "        import math as mt\n",
    "        area=mt.pi*self.__radius**2\n",
    "        print(\"area of circle is :-\",area)\n",
    "        \n",
    "    def circumference(self):\n",
    "        import math as mt\n",
    "        circumference=2*mt.pi*self.__radius\n",
    "        print(\"area of circle is :-\",circumference)"
   ]
  },
  {
   "cell_type": "code",
   "execution_count": 106,
   "id": "a23f77a8-2955-40d7-9061-f91498fab27f",
   "metadata": {},
   "outputs": [],
   "source": [
    "circle_obj=circle(7)"
   ]
  },
  {
   "cell_type": "code",
   "execution_count": 107,
   "id": "85d61fd9-8f43-4f92-a142-7d4b1c315aa4",
   "metadata": {},
   "outputs": [
    {
     "name": "stdout",
     "output_type": "stream",
     "text": [
      "area of circle is :- 153.93804002589985\n",
      "area of circle is :- 43.982297150257104\n"
     ]
    }
   ],
   "source": [
    "cicle_obj.area()\n",
    "cicle_obj.circumference()"
   ]
  },
  {
   "cell_type": "code",
   "execution_count": 11,
   "id": "6f78c17b-468e-4583-a441-f7140e634057",
   "metadata": {},
   "outputs": [],
   "source": [
    "#19. Create a class Employee that increases salary by 10%.\n",
    "class Employee:\n",
    "    def __init__ (self,employe_name,salary):\n",
    "        self.employename=employe_name\n",
    "        self.__salary=salary\n",
    "    \n",
    "    def increases_salary(self):\n",
    "        incr=self.__salary/100*10\n",
    "        salary=incr+self.__salary\n",
    "        print(\"original salary is:-\",self.__salary,\"\\n\",\"salary after increases by 10% is:-\",salary)\n"
   ]
  },
  {
   "cell_type": "code",
   "execution_count": 12,
   "id": "5cd55989-a8e7-485d-b45f-fc951e29cb55",
   "metadata": {},
   "outputs": [],
   "source": [
    "obj_Employee=Employee(\"rasika\",15000)"
   ]
  },
  {
   "cell_type": "code",
   "execution_count": 13,
   "id": "b1b34db9-d8e9-42d2-8c1d-afee9d0a26f1",
   "metadata": {},
   "outputs": [
    {
     "name": "stdout",
     "output_type": "stream",
     "text": [
      "original salary is:- 15000 \n",
      " salary after increases by 10% is:- 16500.0\n"
     ]
    }
   ],
   "source": [
    "obj_Employee.increases_salary()"
   ]
  },
  {
   "cell_type": "code",
   "execution_count": 2,
   "id": "b83afbb0-755d-4cdf-b61b-3eba52c4e9ef",
   "metadata": {},
   "outputs": [],
   "source": [
    "#20. Create a class Car with methods to start, stop, and display status.\n",
    "class car:\n",
    "    def __init__(self):\n",
    "        pass\n",
    "    def start(self):\n",
    "        print(\"start method\")\n",
    "        pass\n",
    "    def stop(self):\n",
    "        print(\"stop method\")\n",
    "        pass\n",
    "    def display(self):\n",
    "        pass"
   ]
  },
  {
   "cell_type": "code",
   "execution_count": 3,
   "id": "afbdc4b6-be25-47b4-a183-2d399885cd29",
   "metadata": {},
   "outputs": [],
   "source": [
    "obj_car=car()"
   ]
  },
  {
   "cell_type": "code",
   "execution_count": 6,
   "id": "13375daf-4207-4685-a6f1-e293cee4ca8f",
   "metadata": {},
   "outputs": [
    {
     "name": "stdout",
     "output_type": "stream",
     "text": [
      "stop method\n"
     ]
    }
   ],
   "source": [
    "obj_car.stop()\n",
    "obj_car.display()"
   ]
  },
  {
   "cell_type": "markdown",
   "id": "2f31b472-0e61-4c38-a369-bcbfae12a677",
   "metadata": {},
   "source": [
    "### 5. Inheritance (5 Questions) "
   ]
  },
  {
   "cell_type": "code",
   "execution_count": 21,
   "id": "c079b24d-a0a2-42fa-98ba-6658ea026c62",
   "metadata": {},
   "outputs": [],
   "source": [
    "#21. Create a base class Animal and a derived class Dog that overrides a method. \n",
    "class animal:\n",
    "    def make_sound(self):\n",
    "        pass\n",
    "\n",
    "class Dog(animal):\n",
    "    def make_sound(self):\n",
    "        return \"Woof!\"\n"
   ]
  },
  {
   "cell_type": "code",
   "execution_count": 22,
   "id": "6b045d3e-5e2a-4eb6-96be-cdbf5fab02e1",
   "metadata": {},
   "outputs": [],
   "source": [
    "animal_obj=Dog()"
   ]
  },
  {
   "cell_type": "code",
   "execution_count": 23,
   "id": "17c5bd7f-0726-4ddd-a476-3e9042770710",
   "metadata": {},
   "outputs": [
    {
     "data": {
      "text/plain": [
       "'Woof!'"
      ]
     },
     "execution_count": 23,
     "metadata": {},
     "output_type": "execute_result"
    }
   ],
   "source": [
    "animal_obj.make_sound()"
   ]
  },
  {
   "cell_type": "code",
   "execution_count": 6,
   "id": "b61a2289-8e19-4bfb-861b-0724750b9acd",
   "metadata": {},
   "outputs": [],
   "source": [
    "#22. Create a base class Shape with method area(). Inherit Rectangle and Circle classes to implement area calculation.\n",
    "class shape:             #parent class\n",
    "    def area(self):\n",
    "        pass\n",
    "class rectangle(shape):  \n",
    "    def area(self,length,width):\n",
    "        self.length=length\n",
    "        self.width=width\n",
    "        return self.length*self.width\n",
    "        print(\"area of rectangle is :-\",area)\n",
    "        \n",
    "class circle(shape):\n",
    "    def area(self,radius):\n",
    "        self.radius=radius\n",
    "        import math as mt\n",
    "        return mt.pi*self.radius**2\n",
    "        print(\"area of circle is :-\",area)\n"
   ]
  },
  {
   "cell_type": "code",
   "execution_count": 7,
   "id": "27d5e913-50a2-4bed-b644-c10b2fb1cac2",
   "metadata": {},
   "outputs": [],
   "source": [
    "obj_shape=shape()"
   ]
  },
  {
   "cell_type": "code",
   "execution_count": 8,
   "id": "f835418e-3376-4be6-b93a-0ba84955f73d",
   "metadata": {},
   "outputs": [],
   "source": [
    "obj2=circle()\n",
    "obj3=rectangle()"
   ]
  },
  {
   "cell_type": "code",
   "execution_count": 9,
   "id": "77c686f6-26ec-494a-8b24-bfdbc5002d12",
   "metadata": {},
   "outputs": [
    {
     "data": {
      "text/plain": [
       "70"
      ]
     },
     "execution_count": 9,
     "metadata": {},
     "output_type": "execute_result"
    }
   ],
   "source": [
    "obj3.area(10,7)"
   ]
  },
  {
   "cell_type": "code",
   "execution_count": 11,
   "id": "dd1a0b38-751a-4223-b429-15bf2a1c8ff3",
   "metadata": {},
   "outputs": [
    {
     "data": {
      "text/plain": [
       "78.53981633974483"
      ]
     },
     "execution_count": 11,
     "metadata": {},
     "output_type": "execute_result"
    }
   ],
   "source": [
    "obj2.area(5)"
   ]
  },
  {
   "cell_type": "code",
   "execution_count": 2,
   "id": "a3be3280-9601-4ef5-822d-418421055aa6",
   "metadata": {},
   "outputs": [
    {
     "name": "stdout",
     "output_type": "stream",
     "text": [
      "Student:\n",
      "Name: rasika\n",
      "Age: 20\n",
      "Student ID: 123\n",
      "\n",
      "Teacher:\n",
      "Name: Mr.roshan\n",
      "Age: 30\n",
      "Subject: Math\n"
     ]
    }
   ],
   "source": [
    "#23. Create a Person class and inherit Student and Teacher from it with additional attributes.\n",
    "class Person:\n",
    "    def __init__(self, name, age):\n",
    "        self.name = name\n",
    "        self.age = age\n",
    "        \n",
    "class Student(Person):\n",
    "    def __init__(self, name, age, student_id):\n",
    "        self.name = name\n",
    "        self.age = age\n",
    "        self.student_id = student_id\n",
    "        \n",
    "class Teacher(Person):\n",
    "    def __init__(self, name, age, subject):\n",
    "        self.name = name\n",
    "        self.age = age\n",
    "        self.subject = subject\n",
    "\n",
    "s1 = Student(\"rasika\", 20, \"123\")\n",
    "t1 = Teacher(\"Mr.roshan\", 30, \"Math\")\n",
    "\n",
    "print(\"Student:\")\n",
    "print(\"Name:\", s1.name)\n",
    "print(\"Age:\", s1.age)\n",
    "print(\"Student ID:\", s1.student_id)\n",
    "\n",
    "print(\"\\nTeacher:\")\n",
    "print(\"Name:\", t1.name)\n",
    "print(\"Age:\", t1.age)\n",
    "print(\"Subject:\", t1.subject)\n",
    "\n",
    "\n"
   ]
  },
  {
   "cell_type": "code",
   "execution_count": 5,
   "id": "9993219c-bb8e-45c6-81fb-0aae5048ad00",
   "metadata": {},
   "outputs": [
    {
     "name": "stdout",
     "output_type": "stream",
     "text": [
      "Car:\n",
      "Brand: Toyota\n",
      "Model: Corolla\n",
      "\n",
      "Bike:\n",
      "Brand: Yamaha\n",
      "Model: R15\n",
      "Type: Sports\n"
     ]
    }
   ],
   "source": [
    "#24. Create a Vehicle class and inherit Car and Bike with their specific features. \n",
    "class Vehicle:\n",
    "    def __init__(self, brand, model):\n",
    "        self.brand = brand\n",
    "        self.model = model\n",
    "\n",
    "class Car(Vehicle):\n",
    "    def __init__(self, brand, model):\n",
    "        self.brand = brand\n",
    "        self.model = model\n",
    "        \n",
    "class Bike(Vehicle):\n",
    "    def __init__(self, brand, model, bike_type):\n",
    "        self.brand = brand\n",
    "        self.model = model\n",
    "        self.bike_type = bike_type\n",
    "\n",
    "car1 = Car(\"Toyota\", \"Corolla\", )\n",
    "bike1 = Bike(\"Yamaha\", \"R15\", \"Sports\")\n",
    "\n",
    "print(\"Car:\")\n",
    "print(\"Brand:\", car1.brand)\n",
    "print(\"Model:\", car1.model)\n",
    "\n",
    "print(\"\\nBike:\")\n",
    "print(\"Brand:\", bike1.brand)\n",
    "print(\"Model:\", bike1.model)\n",
    "print(\"Type:\", bike1.bike_type)\n"
   ]
  },
  {
   "cell_type": "code",
   "execution_count": 8,
   "id": "bf8088d1-2ef6-4514-baad-429591764f53",
   "metadata": {},
   "outputs": [
    {
     "name": "stdout",
     "output_type": "stream",
     "text": [
      "Student-Athlete Info:\n",
      "Name: Alice\n",
      "Student ID: 123\n",
      "Sport: Basketball\n",
      "Team: Wildcats\n"
     ]
    }
   ],
   "source": [
    "#25. Demonstrate multiple inheritance with a StudentAthlete class (inheriting from Student and Athlete).\n",
    "\n",
    "class Student:\n",
    "    def __init__(self, name, student_id):\n",
    "        self.name = name\n",
    "        self.student_id = student_id\n",
    "\n",
    "class Athlete:\n",
    "    def __init__(self, sport, team):\n",
    "        self.sport = sport\n",
    "        self.team = team\n",
    "\n",
    "class StudentAthlete(Student, Athlete):\n",
    "    def __init__(self, name, student_id, sport, team):\n",
    "        self.name = name\n",
    "        self.student_id = student_id\n",
    "        self.sport = sport\n",
    "        self.team = team\n",
    "\n",
    "# Example usage\n",
    "sa = StudentAthlete(\"Alice\", \"123\", \"Basketball\", \"Wildcats\")\n",
    "\n",
    "print(\"Student-Athlete Info:\")\n",
    "print(\"Name:\", sa.name)\n",
    "print(\"Student ID:\", sa.student_id)\n",
    "print(\"Sport:\", sa.sport)\n",
    "print(\"Team:\", sa.team)\n"
   ]
  },
  {
   "cell_type": "markdown",
   "id": "a6894272-92e2-4ace-8541-1baac2530e8c",
   "metadata": {},
   "source": [
    "### 6. Polymorphism (5 Questions) "
   ]
  },
  {
   "cell_type": "code",
   "execution_count": 50,
   "id": "90c28836-60cd-4618-a025-8d0d53c5c470",
   "metadata": {},
   "outputs": [],
   "source": [
    "#26. Create two classes Cat and Dog with the same method speak(). Demonstrate polymorphism. \n",
    "class Animal:\n",
    "    def make_sound(self):\n",
    "        pass  \n",
    "\n",
    "class Dog(Animal):\n",
    "    def make_sound(self):\n",
    "        return \"Woof!\"\n",
    "\n",
    "class Cat(Animal):\n",
    "    def make_sound(self):\n",
    "        return \"Meow!\""
   ]
  },
  {
   "cell_type": "code",
   "execution_count": 53,
   "id": "174c09ac-d973-40ef-b43c-8dbd24e50388",
   "metadata": {},
   "outputs": [],
   "source": [
    "o1= Dog()\n",
    "o2 = Cat()"
   ]
  },
  {
   "cell_type": "code",
   "execution_count": 55,
   "id": "19aedfe1-276a-4d62-b64b-686fa6f101a6",
   "metadata": {},
   "outputs": [],
   "source": [
    "Animal=[o1,o2]"
   ]
  },
  {
   "cell_type": "code",
   "execution_count": 61,
   "id": "8b332de0-42e4-4712-b0a2-8236a7e33a61",
   "metadata": {},
   "outputs": [
    {
     "name": "stdout",
     "output_type": "stream",
     "text": [
      "Woof!\n",
      "Meow!\n"
     ]
    }
   ],
   "source": [
    "for Animal in Animal:\n",
    "    print(Animal.make_sound())"
   ]
  },
  {
   "cell_type": "code",
   "execution_count": 2,
   "id": "17489b3f-9638-4bc5-a664-58277eda5182",
   "metadata": {},
   "outputs": [
    {
     "name": "stdout",
     "output_type": "stream",
     "text": [
      "Vector 1: (2, 3)\n",
      "Vector 2: (4, 5)\n",
      "Added Vector: (6, 8)\n"
     ]
    }
   ],
   "source": [
    "#27. Demonstrate operator overloading by implementing addition of two Vector objects. \n",
    "class Vector:\n",
    "    def __init__(self,x,y):\n",
    "        self.x=x\n",
    "        self.y=y\n",
    "    def _add_(self,other):\n",
    "        return Vector(self.x + other.x, self.y + other.y)  \n",
    "class Vector:\n",
    "    def __init__(self, x, y):\n",
    "        self.x = x\n",
    "        self.y = y\n",
    "\n",
    "    def __add__(self, other):\n",
    "        return Vector(self.x + other.x, self.y + other.y)\n",
    "\n",
    "    def __str__(self):\n",
    "        return f\"({self.x}, {self.y})\"\n",
    "\n",
    "\n",
    "v1 = Vector(2, 3)\n",
    "v2 = Vector(4, 5)\n",
    "\n",
    "v3 = v1 + v2  \n",
    "\n",
    "print(\"Vector 1:\", v1)\n",
    "print(\"Vector 2:\", v2)\n",
    "print(\"Added Vector:\", v3)\n",
    "\n"
   ]
  },
  {
   "cell_type": "code",
   "execution_count": 80,
   "id": "d9225e15-de2e-4cf1-ab83-1cace1a5d643",
   "metadata": {},
   "outputs": [],
   "source": [
    "#28. Demonstrate method overloading using default parameters. \n",
    "class mathoperation:\n",
    "    def add(self,a=0,b=0,c=0):\n",
    "        return a + b + c "
   ]
  },
  {
   "cell_type": "code",
   "execution_count": 82,
   "id": "5e1a217b-5e66-45c0-bb85-3a42d8544c79",
   "metadata": {},
   "outputs": [],
   "source": [
    "math_obj=mathoperation()"
   ]
  },
  {
   "cell_type": "code",
   "execution_count": 85,
   "id": "db8f1419-1053-4e75-a137-004dca258801",
   "metadata": {},
   "outputs": [
    {
     "name": "stdout",
     "output_type": "stream",
     "text": [
      "add of two numbers 7\n",
      "add of three numbers 14\n"
     ]
    }
   ],
   "source": [
    "print(\"add of two numbers\",math_obj.add(5,2))\n",
    "print(\"add of three numbers\",math_obj.add(11,2,1))"
   ]
  },
  {
   "cell_type": "code",
   "execution_count": 96,
   "id": "67356266-29d7-4d1c-8dde-8d2260a38a8c",
   "metadata": {},
   "outputs": [],
   "source": [
    "#29. Create a base class Shape with draw() method and override it in derived classes. \n",
    "class shape:\n",
    "    def draw(self):\n",
    "        pass\n",
    "class Rectangle1(shape):\n",
    "    def draw(self):\n",
    "        print(\"this is a rectrangle\")\n",
    "    \n",
    "class Circle(shape):\n",
    "    def draw(self):\n",
    "        print(\"this is a Circle\")\n",
    "    "
   ]
  },
  {
   "cell_type": "code",
   "execution_count": 98,
   "id": "b436cc63-7fa7-4850-9351-169f4c4eca8c",
   "metadata": {},
   "outputs": [],
   "source": [
    "obj_shape=shape()\n",
    "obj_rect=Rectangle1()\n",
    "obj_circle=Circle()"
   ]
  },
  {
   "cell_type": "code",
   "execution_count": 100,
   "id": "19fb32cb-df73-4d16-ac97-c7ea09932b9a",
   "metadata": {},
   "outputs": [
    {
     "name": "stdout",
     "output_type": "stream",
     "text": [
      "this is a Circle\n",
      "this is a rectrangle\n"
     ]
    }
   ],
   "source": [
    "obj_circle.draw()\n",
    "obj_rect.draw()"
   ]
  },
  {
   "cell_type": "code",
   "execution_count": 103,
   "id": "2a74c6a5-a70a-406b-af9a-642a3511712c",
   "metadata": {},
   "outputs": [],
   "source": [
    "#30. Demonstrate duck typing with classes having the same method name.\n",
    "class cat:\n",
    "    def speak(self):\n",
    "        print(\"meow\")\n",
    "class dog:\n",
    "    def speak(self):\n",
    "        print(\"woof\")\n",
    "class parrot:\n",
    "    def speak(self):\n",
    "        print(\"squawk\")\n"
   ]
  },
  {
   "cell_type": "code",
   "execution_count": 104,
   "id": "646905bb-7202-4688-a07c-55d9113846a5",
   "metadata": {},
   "outputs": [],
   "source": [
    "def make_animal_speak(animal):\n",
    "    animal.speak()\n",
    "    "
   ]
  },
  {
   "cell_type": "code",
   "execution_count": 105,
   "id": "a26bb47e-044c-454f-a1cd-318f8a730bc9",
   "metadata": {},
   "outputs": [
    {
     "name": "stdout",
     "output_type": "stream",
     "text": [
      "meow\n",
      "woof\n",
      "squawk\n"
     ]
    }
   ],
   "source": [
    "animals=[cat(),dog(),parrot()]\n",
    "for a in animals:\n",
    "    make_animal_speak(a)"
   ]
  },
  {
   "cell_type": "markdown",
   "id": "2f29ddea-e41e-4482-be2a-d90f20119f4a",
   "metadata": {},
   "source": [
    "### 7. Encapsulation (5 Questions)"
   ]
  },
  {
   "cell_type": "code",
   "execution_count": 44,
   "id": "a42ec11d-27f7-4955-bb73-1d006672b50a",
   "metadata": {},
   "outputs": [],
   "source": [
    "#31. Create a class Account with private balance attribute and provide methods to deposit and withdraw. \n",
    "class Account:\n",
    "    def __init__(self,balance):\n",
    "        self.__balance = balance  \n",
    "    def deposit(self, amount):\n",
    "            self.__balance += amount\n",
    "            return f\"Deposited {amount}. New balance: {self.__balance}\"\n",
    "            return \"Invalid deposit amount\"\n",
    "\n",
    "    def withdraw(self, amount):\n",
    "            self.__balance -= amount\n",
    "            return f\"Withdrew {amount}. New balance: {self.__balance}\"\n",
    "            return \"Invalid withdrawal amount\"\n",
    "\n",
    "    def get_balance(self):\n",
    "        return self.__balance\n",
    "\n"
   ]
  },
  {
   "cell_type": "code",
   "execution_count": 48,
   "id": "0e907137-781b-4122-be41-74d8790159c6",
   "metadata": {},
   "outputs": [],
   "source": [
    "account_obj=Account(50000)"
   ]
  },
  {
   "cell_type": "code",
   "execution_count": 49,
   "id": "5fcf7fd8-71e8-4d3f-a1bd-b0dc112e56ea",
   "metadata": {},
   "outputs": [
    {
     "data": {
      "text/plain": [
       "55000"
      ]
     },
     "execution_count": 49,
     "metadata": {},
     "output_type": "execute_result"
    }
   ],
   "source": [
    "account_obj.deposit(10000)\n",
    "account_obj.withdraw(5000)\n",
    "account_obj.get_balance()"
   ]
  },
  {
   "cell_type": "code",
   "execution_count": 3,
   "id": "23d53123-560c-47a5-bfad-e03de8103856",
   "metadata": {},
   "outputs": [],
   "source": [
    "#32. Create a class with private attributes and use getter and setter methods to access them. \n",
    "class Person:\n",
    "    def __init__(self, name, age):\n",
    "        self.name = name\n",
    "        self.__age = age  # private attribute\n",
    "\n",
    "    def get_age(self):\n",
    "        return self.__age\n",
    "\n",
    "    def set_age(self, new_age):\n",
    "        if new_age >= 0:\n",
    "            self.__age = new_age\n",
    "        else:\n",
    "            print(\"Age cannot be negative\")"
   ]
  },
  {
   "cell_type": "code",
   "execution_count": 4,
   "id": "4c1db4fc-ed16-4877-9f18-9dc2af56357e",
   "metadata": {},
   "outputs": [],
   "source": [
    "gs=Person(\"rasika\",20)"
   ]
  },
  {
   "cell_type": "code",
   "execution_count": 6,
   "id": "9c49d477-0564-495e-b26b-902bdc2ecb3e",
   "metadata": {},
   "outputs": [],
   "source": [
    "gs.set_age(21)"
   ]
  },
  {
   "cell_type": "code",
   "execution_count": 7,
   "id": "f503dc07-c187-44a7-b7d7-e416219b35a8",
   "metadata": {},
   "outputs": [
    {
     "data": {
      "text/plain": [
       "21"
      ]
     },
     "execution_count": 7,
     "metadata": {},
     "output_type": "execute_result"
    }
   ],
   "source": [
    "gs.get_age()"
   ]
  },
  {
   "cell_type": "code",
   "execution_count": 18,
   "id": "a4443397-8233-4fb6-aa0b-95a5acd2539f",
   "metadata": {},
   "outputs": [
    {
     "name": "stdout",
     "output_type": "stream",
     "text": [
      "rasika\n"
     ]
    }
   ],
   "source": [
    "#33. Demonstrate name mangling with private variables. \n",
    "class privatename:\n",
    "    def __init__(self,name):\n",
    "        self.__name=name\n",
    "obj = privatename(\"rasika\")\n",
    "print(obj._privatename__name)\n"
   ]
  },
  {
   "cell_type": "code",
   "execution_count": 68,
   "id": "ad611fc2-09ec-4eda-9c46-789d09ed6c3b",
   "metadata": {},
   "outputs": [],
   "source": [
    "#34. Create a class Bank with encapsulated methods to show account details securely. \n",
    "class account:\n",
    "    def __init__(self,account_holder,balance,pin,account_number):\n",
    "        self.__account_holder=account_holder\n",
    "        self.__balance=balance\n",
    "        self.__pin=pin\n",
    "        self.__account_number=account_number\n",
    "    def deposit(self,deposit):\n",
    "        self.deposit=deposit\n",
    "        print(deposit)\n",
    "        self.__balance=self.__balance + self.deposit\n",
    "        print( \"balances :-\",self.__balance)\n",
    "    def withdrawal (self,withd):\n",
    "        self.withd=withd\n",
    "        print(\"withdraw amount is\",withd)\n",
    "        self.__balance=self.__balance - self.withd\n",
    "        print(\"balance:-\",self.__balance)\n",
    "    def account_details(self,pin):\n",
    "        self.pin=pin\n",
    "        if self.__pin ==self.pin:\n",
    "            print(\"Account Holder Name :-\",self.__account_holder,\n",
    "                  \"\\n\",\" balance amount in account :-\",self.__balance,\n",
    "                  \"\\n\",\"account number\",self.__account_number,\n",
    "                  \"\\n\", \"last deposit amount is :-\",self.deposit,\n",
    "                  \"\\n\",\"last withdrawal  amount is :-\",self.withd)\n",
    "        else:\n",
    "            print(\"enterd pin is wrong\",pin)"
   ]
  },
  {
   "cell_type": "code",
   "execution_count": 70,
   "id": "10c7526f-2d6e-4bcb-becd-7d3bf9b021e3",
   "metadata": {},
   "outputs": [],
   "source": [
    "ac=account(\"rasika\",5000,1234,2024563185)"
   ]
  },
  {
   "cell_type": "code",
   "execution_count": 71,
   "id": "886311ba-0cf0-4dfe-8e09-7560e2cf53a9",
   "metadata": {},
   "outputs": [
    {
     "name": "stdout",
     "output_type": "stream",
     "text": [
      "5000\n",
      "balances :- 10000\n"
     ]
    }
   ],
   "source": [
    "ac.deposit(5000)"
   ]
  },
  {
   "cell_type": "code",
   "execution_count": 72,
   "id": "e345b870-f1aa-4b12-9109-b1418d1c166c",
   "metadata": {},
   "outputs": [
    {
     "name": "stdout",
     "output_type": "stream",
     "text": [
      "withdraw amount is 500\n",
      "balance:- 9500\n"
     ]
    }
   ],
   "source": [
    "ac.withdrawal(500)"
   ]
  },
  {
   "cell_type": "code",
   "execution_count": 73,
   "id": "e76e1d9c-34c0-453f-811d-72b48708a785",
   "metadata": {},
   "outputs": [
    {
     "name": "stdout",
     "output_type": "stream",
     "text": [
      "Account Holder Name :- rasika \n",
      "  balance amount in account :- 9500 \n",
      " account number 2024563185 \n",
      " last deposit amount is :- 5000 \n",
      " last withdrawal  amount is :- 500\n"
     ]
    }
   ],
   "source": [
    "ac.account_details(1234)"
   ]
  },
  {
   "cell_type": "code",
   "execution_count": 75,
   "id": "8ce938e4-aada-4a73-bfde-7522b07426c3",
   "metadata": {},
   "outputs": [
    {
     "name": "stdout",
     "output_type": "stream",
     "text": [
      "enterd pin is wrong 12451\n"
     ]
    }
   ],
   "source": [
    "ac.account_details(12451)  ## wrong pin   "
   ]
  },
  {
   "cell_type": "code",
   "execution_count": 76,
   "id": "5e72ad64-fd7e-4613-bb00-1203ee94a3be",
   "metadata": {},
   "outputs": [],
   "source": [
    "#35. Demonstrate encapsulation by restricting access to class attributes.\n",
    "class employee:\n",
    "    def __init__(self,salary):\n",
    "        self.__salary = salary\n",
    "\n",
    "    def get_salary(self):\n",
    "        return self.__salary\n",
    "        \n",
    "    def set_salary(self,salary):\n",
    "        if salary > 0:\n",
    "            self.__salary = salary\n",
    "        else:\n",
    "            print(\"invalid salary\")"
   ]
  },
  {
   "cell_type": "code",
   "execution_count": 4,
   "id": "eb48da8a-0a4d-4a89-b8c1-34526cb6d9ce",
   "metadata": {},
   "outputs": [
    {
     "data": {
      "text/plain": [
       "400000"
      ]
     },
     "execution_count": 4,
     "metadata": {},
     "output_type": "execute_result"
    }
   ],
   "source": [
    "emp=employee(400000)\n",
    "emp.get_salary()"
   ]
  },
  {
   "cell_type": "code",
   "execution_count": 5,
   "id": "241ea421-1af6-4679-b316-0caaa11358e0",
   "metadata": {},
   "outputs": [
    {
     "name": "stdout",
     "output_type": "stream",
     "text": [
      "invalid salary\n"
     ]
    }
   ],
   "source": [
    "emp.set_salary(-100)"
   ]
  },
  {
   "cell_type": "markdown",
   "id": "6762dc88-d958-4860-b6dd-7c4bc3a8f06b",
   "metadata": {},
   "source": [
    "### 8. Datetime Module (5 Questions)"
   ]
  },
  {
   "cell_type": "code",
   "execution_count": 17,
   "id": "aabe143d-59e9-42fd-a217-bc246abe5a11",
   "metadata": {},
   "outputs": [
    {
     "name": "stdout",
     "output_type": "stream",
     "text": [
      "the current date and time is : 2025-09-21 18:40:52\n"
     ]
    }
   ],
   "source": [
    "#36. Write a program to display the current date and time. \n",
    "import datetime as dt\n",
    "from datetime import datetime\n",
    "today=datetime.now()\n",
    "print(\"the current date and time is :\",today.strftime(\"%Y-%m-%d %H:%M:%S\"))"
   ]
  },
  {
   "cell_type": "code",
   "execution_count": 33,
   "id": "2fbca183-6ce2-44f3-bcc6-e62cbda8addd",
   "metadata": {},
   "outputs": [
    {
     "name": "stdin",
     "output_type": "stream",
     "text": [
      "enter you date of birth: 2001-10-03\n"
     ]
    },
    {
     "name": "stdout",
     "output_type": "stream",
     "text": [
      "your age is:- 24\n"
     ]
    }
   ],
   "source": [
    "#37. Write a program to calculate a person’s age from their date of birth.\n",
    "from datetime import timedelta\n",
    "dob=str(input(\"enter you date of birth:\"))\n",
    "date_of_birth = datetime.strptime(dob,\"%Y-%m-%d\").date()\n",
    "today=datetime.today()\n",
    "age=today.year - date_of_birth.year\n",
    "print(\"your age is:-\",age)\n"
   ]
  },
  {
   "cell_type": "code",
   "execution_count": 62,
   "id": "d926b977-2886-4a47-8d29-1ec38249883e",
   "metadata": {},
   "outputs": [
    {
     "name": "stdout",
     "output_type": "stream",
     "text": [
      "difference between two days is:- 2 days, 0:00:00\n"
     ]
    }
   ],
   "source": [
    "#38. Write a program to find the difference in days between two given dates.\n",
    "from datetime import timedelta\n",
    "date1= datetime.now()\n",
    "date2= date1 + timedelta(days=2)\n",
    "diff=  date2 - date1\n",
    "print(\"difference between two days is:-\",diff)\n"
   ]
  },
  {
   "cell_type": "code",
   "execution_count": 51,
   "id": "84c01691-1108-4069-b1f2-2608e7be67b7",
   "metadata": {},
   "outputs": [
    {
     "name": "stdout",
     "output_type": "stream",
     "text": [
      "todays date is:- 14-09-2025\n",
      "date after 30 days is:- 14-10-2025\n"
     ]
    }
   ],
   "source": [
    "#39. Write a program to print the date 30 days from today. \n",
    "from datetime import timedelta\n",
    "today_date=dt.datetime.now()\n",
    "date_after_30 =today_date + timedelta(days=30)\n",
    "print(\"todays date is:-\",today_date.strftime(\"%d-%m-%Y\"))\n",
    "print(\"date after 30 days is:-\",date_after_30.strftime(\"%d-%m-%Y\"))"
   ]
  },
  {
   "cell_type": "code",
   "execution_count": 43,
   "id": "ba4eaba2-2fc8-486e-8d56-c74244aeaca8",
   "metadata": {},
   "outputs": [
    {
     "name": "stdout",
     "output_type": "stream",
     "text": [
      "the current date as “DD/MM/YYYY” : 14-09-2025\n",
      "the current date as “YYYY/MM/DD” : 2025-09-14\n"
     ]
    }
   ],
   "source": [
    "#40. Write a program to format today’s date as “DD/MM/YYYY” and “YYYY-MM-DD”.\n",
    "date_today=dt.datetime.now()\n",
    "print(\"the current date as “DD/MM/YYYY” :\",date_today.strftime(\"%d-%m-%Y\"))\n",
    "print(\"the current date as “YYYY/MM/DD” :\",date_today.strftime(\"%Y-%m-%d\"))"
   ]
  },
  {
   "cell_type": "markdown",
   "id": "3bb3dcf7-a3c0-4830-9480-5c72267d58fd",
   "metadata": {},
   "source": [
    "### 9. Math Module (5 Questions)"
   ]
  },
  {
   "cell_type": "code",
   "execution_count": 8,
   "id": "4b6e3ba5-f38d-42a3-ba61-3a6b9b8c6c54",
   "metadata": {},
   "outputs": [
    {
     "name": "stdin",
     "output_type": "stream",
     "text": [
      "enter a number: 5\n"
     ]
    },
    {
     "name": "stdout",
     "output_type": "stream",
     "text": [
      "factorial of 5 is 120\n"
     ]
    }
   ],
   "source": [
    "#41. Write a program to calculate factorial using math.factorial(). \n",
    "import math as mt\n",
    "num1=int(input(\"enter a number:\"))\n",
    "factorial=mt.factorial(num1)\n",
    "print(\"factorial of\",num1 ,\"is\",factorial)\n"
   ]
  },
  {
   "cell_type": "code",
   "execution_count": 68,
   "id": "62e7a399-9f72-48af-917b-ffc3b1f43c40",
   "metadata": {},
   "outputs": [
    {
     "name": "stdin",
     "output_type": "stream",
     "text": [
      "enter a number 1 : 36\n",
      "enter a number 2 : 6\n"
     ]
    },
    {
     "name": "stdout",
     "output_type": "stream",
     "text": [
      "6\n"
     ]
    }
   ],
   "source": [
    "#42. Write a program to find the greatest common divisor (GCD) of two numbers. \n",
    "number1=int(input(\"enter a number 1 :\"))\n",
    "number2=int(input(\"enter a number 2 :\"))\n",
    "GCD=mt.gcd(number1,number2)\n",
    "print(GCD)\n"
   ]
  },
  {
   "cell_type": "code",
   "execution_count": 73,
   "id": "b01d3b7a-88bf-4b92-9e52-6afa2f044ec5",
   "metadata": {},
   "outputs": [
    {
     "name": "stdin",
     "output_type": "stream",
     "text": [
      "enter a number 5\n"
     ]
    },
    {
     "name": "stdout",
     "output_type": "stream",
     "text": [
      "2.23606797749979 \n",
      " 25.0 \n",
      " 3.178053830347945\n"
     ]
    }
   ],
   "source": [
    "#43. Write a program to calculate square root, power, and logarithm using math module. \n",
    "number_=int(input(\"enter a number\"))\n",
    "square_root=mt.sqrt(number_)\n",
    "power=mt.pow(number_,2)\n",
    "logarithm=mt.lgamma(number_)\n",
    "print(square_root,\"\\n\",power,\"\\n\",logarithm)"
   ]
  },
  {
   "cell_type": "code",
   "execution_count": 14,
   "id": "889e82f3-d49f-4b6b-81a7-624c3f00a0ad",
   "metadata": {},
   "outputs": [
    {
     "name": "stdout",
     "output_type": "stream",
     "text": [
      "[ 0  1  1  2  2  5  0  5  0  8  3  6  8  2  9  4  4 17 15  0  7  5 15  8\n",
      " 18  9 21 21  6 11 24 18  2  7  5 31  9 29 26  6 12 14 26  5 44 15 46 41\n",
      "  4 46 47 45 29 24 38 34 22 40  2 29  5 34 55 25 13 37 31 37 18  4 67 25\n",
      " 54 49 65 34 19 51 32 18 13 65 44 31 55 76 81 17 60 40 18 47 86 57 46 14\n",
      "  7 57 24 32]\n"
     ]
    }
   ],
   "source": [
    "#44. Write a program to generate random numbers between 1 and 100 (using math and random).\n",
    "import numpy as np\n",
    "numbers=range(1,101)\n",
    "random_number=np.random.randint(numbers)\n",
    "print(random_number)\n",
    "\n",
    "\n"
   ]
  },
  {
   "cell_type": "code",
   "execution_count": 11,
   "id": "86aec25a-151e-408d-8566-e99adf7961f8",
   "metadata": {},
   "outputs": [
    {
     "name": "stdin",
     "output_type": "stream",
     "text": [
      "enter a number: 55\n"
     ]
    },
    {
     "name": "stdout",
     "output_type": "stream",
     "text": [
      "converted degree is 3151.2678732195277 \n",
      " converted radians is 55.0\n"
     ]
    }
   ],
   "source": [
    "##### 45. Write a program to convert radians to degrees and vice versa.\n",
    "dr=int(input(\"enter a number:\"))\n",
    "degree=mt.degrees(dr)\n",
    "converte_radians=mt.radians(degree)\n",
    "print(\"converted degree is\" ,degree,\"\\n\",\"converted radians is\",converte_radians)"
   ]
  },
  {
   "cell_type": "markdown",
   "id": "0a7ed27d-8460-4dba-8af5-a53c5041e5ce",
   "metadata": {},
   "source": [
    "### 10. Regular Expression Module (5 Questions)"
   ]
  },
  {
   "cell_type": "code",
   "execution_count": 6,
   "id": "32717c57-8b5d-4c1a-846c-4e9b6c71010d",
   "metadata": {},
   "outputs": [
    {
     "name": "stdin",
     "output_type": "stream",
     "text": [
      "enter a email : mandade@gmail.com\n"
     ]
    },
    {
     "name": "stdout",
     "output_type": "stream",
     "text": [
      "email is valid ['mandade@gmail.com']\n"
     ]
    }
   ],
   "source": [
    "#46. Write a regex to check if a string is a valid email address. \n",
    "import re\n",
    "email=str(input(\"enter a email :\"))\n",
    "valid= re.findall(r'\\b[\\w.-]+@[\\w.-]+\\.\\w+\\b', email)\n",
    "print(\"email is valid\",valid)"
   ]
  },
  {
   "cell_type": "code",
   "execution_count": 22,
   "id": "81e8c85f-dfbc-4fbb-b5b7-4ba705f021e0",
   "metadata": {},
   "outputs": [
    {
     "name": "stdin",
     "output_type": "stream",
     "text": [
      "enter a string: there are 3 apple and 2 banana\n"
     ]
    },
    {
     "name": "stdout",
     "output_type": "stream",
     "text": [
      "['3', '2']\n"
     ]
    }
   ],
   "source": [
    "#47. Write a regex to extract all numbers from a string.\n",
    "str1=(input(\"enter a string:\"))\n",
    "num=re.findall(r'\\d',str1)\n",
    "print(num)\n"
   ]
  },
  {
   "cell_type": "code",
   "execution_count": 44,
   "id": "52288a3e-7f2e-458c-9af1-1255724f6df2",
   "metadata": {},
   "outputs": [
    {
     "name": "stdin",
     "output_type": "stream",
     "text": [
      "enter a number : 917277974025\n"
     ]
    },
    {
     "name": "stdout",
     "output_type": "stream",
     "text": [
      "['91727797402']\n"
     ]
    }
   ],
   "source": [
    "#48. Write a regex to validate if a string is a valid Indian mobile number (10 digits).\n",
    "number=(input(\"enter a number :\"))\n",
    "indnum=re.findall(r'^[91]\\d{10}',number)\n",
    "print(indnum)"
   ]
  },
  {
   "cell_type": "code",
   "execution_count": 51,
   "id": "69de5478-5c7b-45de-8652-0062c7ce0c46",
   "metadata": {},
   "outputs": [
    {
     "name": "stdin",
     "output_type": "stream",
     "text": [
      "enter a string: Write a regex to find all words Starting with a Capital Letter in a sentence.\n"
     ]
    },
    {
     "name": "stdout",
     "output_type": "stream",
     "text": [
      "['Write', 'Starting', 'Capital', 'Letter']\n"
     ]
    }
   ],
   "source": [
    "#49. Write a regex to find all words starting with a capital letter in a sentence. \n",
    "letter=(input(\"enter a string:\"))\n",
    "capital=re.findall(r'[A-Z]\\S+',letter)\n",
    "print(capital)"
   ]
  },
  {
   "cell_type": "code",
   "execution_count": 7,
   "id": "ebec336a-95c2-46a2-b394-38625f34275d",
   "metadata": {},
   "outputs": [
    {
     "name": "stdout",
     "output_type": "stream",
     "text": [
      "this-is-my-new-program\n"
     ]
    }
   ],
   "source": [
    "#50. Write a regex to replace all spaces in a string with a hyphen.\n",
    "text = \"this is my new program\"\n",
    "cleaned = re.sub(r'\\s', '-', text)\n",
    "print(cleaned)\n"
   ]
  }
 ],
 "metadata": {
  "kernelspec": {
   "display_name": "Python 3 (ipykernel)",
   "language": "python",
   "name": "python3"
  },
  "language_info": {
   "codemirror_mode": {
    "name": "ipython",
    "version": 3
   },
   "file_extension": ".py",
   "mimetype": "text/x-python",
   "name": "python",
   "nbconvert_exporter": "python",
   "pygments_lexer": "ipython3",
   "version": "3.13.5"
  }
 },
 "nbformat": 4,
 "nbformat_minor": 5
}
