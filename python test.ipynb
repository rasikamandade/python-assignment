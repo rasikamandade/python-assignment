{
 "cells": [
  {
   "cell_type": "code",
   "execution_count": null,
   "id": "f6142b52-3931-4c3c-b40e-5f7249c1d77c",
   "metadata": {},
   "outputs": [],
   "source": [
    "#1. Second Largest Without Sorting\n",
    "#Write a program to find the second largest number in a list without using sort() or max() more than once.\n"
   ]
  },
  {
   "cell_type": "code",
   "execution_count": null,
   "id": "d09d7093-5b10-41ef-b9c0-e5bb2fcf6186",
   "metadata": {},
   "outputs": [],
   "source": []
  },
  {
   "cell_type": "code",
   "execution_count": null,
   "id": "c4cd0d29-f90e-4f40-b913-f36e7f3b1d18",
   "metadata": {},
   "outputs": [],
   "source": [
    "#2. Missing Number in Range\n",
    "#Input: a list of unique numbers from 1 to n (with one missing). Find the missing number using loops only.\n",
    "#Example: [1, 2, 4, 5] → Output: 3"
   ]
  },
  {
   "cell_type": "code",
   "execution_count": 29,
   "id": "d60f1e6f-c52a-4993-a4ec-4b9d0a9e39dc",
   "metadata": {},
   "outputs": [
    {
     "name": "stdin",
     "output_type": "stream",
     "text": [
      "enter a missing number 3\n"
     ]
    },
    {
     "name": "stdout",
     "output_type": "stream",
     "text": [
      "3\n",
      "3\n",
      "3\n",
      "3\n",
      "3\n",
      "3\n",
      "3\n"
     ]
    }
   ],
   "source": [
    "n=[1,2,4,5,6,7,8]\n",
    "missing=int(input(\"enter a missing number\"))\n",
    "for i in n:\n",
    "    if missing != i:\n",
    "        print(missing)\n",
    "    "
   ]
  },
  {
   "cell_type": "code",
   "execution_count": 30,
   "id": "21c2520e-931b-415a-8d2b-c77985671085",
   "metadata": {},
   "outputs": [],
   "source": [
    "#3. Count Consecutive Characters\n",
    "#For a given string, count consecutive repeating characters and compress it.\n",
    "#Example: \"aaabbccccd\" → \"a3b2c4d1\""
   ]
  },
  {
   "cell_type": "code",
   "execution_count": 24,
   "id": "178538e3-da9d-4848-9312-ed1cfb39cfbc",
   "metadata": {},
   "outputs": [
    {
     "name": "stdout",
     "output_type": "stream",
     "text": [
      "d 3 d 3 d 3 c 3 c 3 c 3 v 3 v 3 v 3 y 2 y 2 x 2 x 2 w 1 e 1 "
     ]
    }
   ],
   "source": [
    "var=\"dddcccvvvyyxxwe\"\n",
    "for i in var:\n",
    "    j=var.count(i)\n",
    "    print(i,j,end=\" \")\n",
    "    "
   ]
  },
  {
   "cell_type": "code",
   "execution_count": 2,
   "id": "73bcecf8-0509-43e9-8ebb-1d92b07adf2e",
   "metadata": {},
   "outputs": [],
   "source": [
    "#4. Check Balanced String\n",
    "#A string is balanced if the number of vowels equals the number of consonants.\n",
    "#Example: \"code\" → Balanced (2 vowels, 2 consonants)."
   ]
  },
  {
   "cell_type": "code",
   "execution_count": 36,
   "id": "3597063c-5dc6-4658-af9a-66e035ac5cda",
   "metadata": {},
   "outputs": [
    {
     "name": "stdin",
     "output_type": "stream",
     "text": [
      "enter a string: code\n"
     ]
    }
   ],
   "source": [
    "S=input(\"enter a string:\")\n",
    "vowels=0\n",
    "consonants=0\n",
    "for i in S:\n",
    "    if i in \"aeiou\":\n",
    "        vowels += 1\n",
    "    else:\n",
    "        consonants += 1\n",
    "if vowels == consonants:\n",
    "    print=(\"its a balanced string\")\n",
    "        "
   ]
  },
  {
   "cell_type": "code",
   "execution_count": 3,
   "id": "47699306-bfc5-4c2d-8f70-1261b0e82006",
   "metadata": {},
   "outputs": [],
   "source": [
    "#5. List Element Difference\n",
    "#Given a list, create a new list where each element is the difference between the largest element and the current element.\n",
    "#Example: [4, 7, 2] → [3, 0, 5]\n"
   ]
  },
  {
   "cell_type": "code",
   "execution_count": null,
   "id": "5054e4e2-527c-4564-96b5-c180cbc291ef",
   "metadata": {},
   "outputs": [],
   "source": []
  },
  {
   "cell_type": "code",
   "execution_count": 47,
   "id": "7afa44e3-c5fc-46ce-8069-39baf22ce2f2",
   "metadata": {},
   "outputs": [
    {
     "ename": "SyntaxError",
     "evalue": "invalid syntax (2659764385.py, line 5)",
     "output_type": "error",
     "traceback": [
      "\u001b[1;36m  Cell \u001b[1;32mIn[47], line 5\u001b[1;36m\u001b[0m\n\u001b[1;33m    oder=list(map(lambda i))\u001b[0m\n\u001b[1;37m                          ^\u001b[0m\n\u001b[1;31mSyntaxError\u001b[0m\u001b[1;31m:\u001b[0m invalid syntax\n"
     ]
    }
   ],
   "source": [
    "#6. Digit Rearrangement\n",
    "#Take an integer and rearrange its digits in descending order.\n",
    "#Example: 42153 → 54321\n",
    "var1=int(input(\"enter a number:\"))\n",
    "oder=list(map(lambda i))\n",
    "print(oder)"
   ]
  },
  {
   "cell_type": "code",
   "execution_count": 55,
   "id": "fac06d5c-58aa-4270-903c-cf81a67dd5f2",
   "metadata": {},
   "outputs": [
    {
     "ename": "TypeError",
     "evalue": "'str' object is not callable",
     "output_type": "error",
     "traceback": [
      "\u001b[1;31m---------------------------------------------------------------------------\u001b[0m",
      "\u001b[1;31mTypeError\u001b[0m                                 Traceback (most recent call last)",
      "Cell \u001b[1;32mIn[55], line 5\u001b[0m\n\u001b[0;32m      3\u001b[0m \u001b[38;5;28mlist\u001b[39m\u001b[38;5;241m=\u001b[39m\u001b[38;5;124m\"\u001b[39m\u001b[38;5;124m1,2,3,4,5,6,7,8,9,10,11\u001b[39m\u001b[38;5;124m\"\u001b[39m\n\u001b[0;32m      4\u001b[0m even\u001b[38;5;241m=\u001b[39m\u001b[38;5;28mmap\u001b[39m(\u001b[38;5;28;01mlambda\u001b[39;00m x: x\u001b[38;5;241m%\u001b[39m\u001b[38;5;241m2\u001b[39m\u001b[38;5;241m==\u001b[39m\u001b[38;5;241m0\u001b[39m, \u001b[38;5;28mlist\u001b[39m)\n\u001b[1;32m----> 5\u001b[0m \u001b[38;5;28mprint\u001b[39m(even)\n",
      "\u001b[1;31mTypeError\u001b[0m: 'str' object is not callable"
     ]
    }
   ],
   "source": [
    "#7. Sum of Alternate Numbers\n",
    "#Given a list of integers, find the sum of elements at even indices and at odd indices separately, then print which sum is larger.\n",
    "list=\"1,2,3,4,5,6,7,8,9,10,11\"\n",
    "even=map(lambda x: x%2==0, list)\n",
    "print(even)\n"
   ]
  },
  {
   "cell_type": "code",
   "execution_count": 63,
   "id": "48d12251-ecaa-4868-9c1b-013693fc526d",
   "metadata": {},
   "outputs": [
    {
     "data": {
      "text/plain": [
       "[1, 2, 6, 3, 7, 4, 5, 8, 5]"
      ]
     },
     "execution_count": 63,
     "metadata": {},
     "output_type": "execute_result"
    }
   ],
   "source": [
    "#8. Flatten a Nested List\n",
    "#Without using libraries, flatten a 2D list into a 1D list.\n",
    "#Example: [[1,2], [3,4], [5]] → [1,2,3,4,5]\n",
    "li=[[1,2,6], [3,7,4], [5,8,5]]\n",
    "[v for i in li for v in i]"
   ]
  },
  {
   "cell_type": "code",
   "execution_count": 72,
   "id": "910fe403-2e80-4bf9-9933-2fcb6aef5396",
   "metadata": {},
   "outputs": [
    {
     "ename": "TypeError",
     "evalue": "'list' object cannot be interpreted as an integer",
     "output_type": "error",
     "traceback": [
      "\u001b[1;31m---------------------------------------------------------------------------\u001b[0m",
      "\u001b[1;31mTypeError\u001b[0m                                 Traceback (most recent call last)",
      "Cell \u001b[1;32mIn[72], line 5\u001b[0m\n\u001b[0;32m      3\u001b[0m li\u001b[38;5;241m=\u001b[39m[\u001b[38;5;241m1\u001b[39m,\u001b[38;5;241m2\u001b[39m,\u001b[38;5;241m3\u001b[39m,\u001b[38;5;241m4\u001b[39m]\n\u001b[0;32m      4\u001b[0m li2\u001b[38;5;241m=\u001b[39m[\u001b[38;5;241m1\u001b[39m,\u001b[38;5;241m5\u001b[39m,\u001b[38;5;241m2\u001b[39m,\u001b[38;5;241m4\u001b[39m]\n\u001b[1;32m----> 5\u001b[0m \u001b[38;5;28;01mfor\u001b[39;00m i \u001b[38;5;129;01min\u001b[39;00m \u001b[38;5;28mrange\u001b[39m(li):\n\u001b[0;32m      6\u001b[0m     \u001b[38;5;28;01mif\u001b[39;00m li[i] \u001b[38;5;129;01min\u001b[39;00m li2:\n\u001b[0;32m      7\u001b[0m         \u001b[38;5;28mprint\u001b[39m(i)\n",
      "\u001b[1;31mTypeError\u001b[0m: 'list' object cannot be interpreted as an integer"
     ]
    }
   ],
   "source": [
    "#10. Intersection of Two Lists\n",
    "#Without using set(), find common elements between two lists.\n",
    "li=[1,2,3,4]\n",
    "li2=[1,5,2,4]\n",
    "for i in range(li):\n",
    "    if li[i] in li2:\n",
    "        print(i)"
   ]
  },
  {
   "cell_type": "code",
   "execution_count": 73,
   "id": "266c302b-f6bf-4405-8e6f-5c41e835604c",
   "metadata": {},
   "outputs": [],
   "source": [
    "#11. Count Words Starting with Vowel\n",
    "#Given a sentence, count how many words start with a vowel.\n",
    "#Example: \"An elephant is under a tree\" → 3\n",
    "var=\"An elephant is under a tree\"\n",
    "if var.startswith(\"aeiou\"):\n",
    "    var.count()"
   ]
  },
  {
   "cell_type": "code",
   "execution_count": null,
   "id": "baff90aa-78da-48a3-bb07-fca1193a584b",
   "metadata": {},
   "outputs": [],
   "source": [
    "#12. Pattern with Conditions\n",
    "#Print a pyramid of numbers where each row contains only odd numbers up to n.\n",
    "#Example (n=5):"
   ]
  }
 ],
 "metadata": {
  "kernelspec": {
   "display_name": "Python 3 (ipykernel)",
   "language": "python",
   "name": "python3"
  },
  "language_info": {
   "codemirror_mode": {
    "name": "ipython",
    "version": 3
   },
   "file_extension": ".py",
   "mimetype": "text/x-python",
   "name": "python",
   "nbconvert_exporter": "python",
   "pygments_lexer": "ipython3",
   "version": "3.13.5"
  }
 },
 "nbformat": 4,
 "nbformat_minor": 5
}
